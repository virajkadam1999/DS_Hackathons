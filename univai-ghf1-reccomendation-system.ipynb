{
 "cells": [
  {
   "cell_type": "markdown",
   "id": "working-essex",
   "metadata": {
    "papermill": {
     "duration": 0.031011,
     "end_time": "2021-08-01T11:51:49.514264",
     "exception": false,
     "start_time": "2021-08-01T11:51:49.483253",
     "status": "completed"
    },
    "tags": []
   },
   "source": [
    "# Resources\n",
    "* [ https://developers.google.com/machine-learning/recommendation/overview/types ]\n",
    "* [ https://www.kaggle.com/ibtesama/getting-started-with-a-movie-recommendation-system ]\n",
    "* [ https://www.kaggle.com/kanncaa1/recommendation-systems-tutorial ]\n",
    "* [ https://www.featuretools.com/demos/ ]"
   ]
  },
  {
   "cell_type": "code",
   "execution_count": 1,
   "id": "mechanical-palace",
   "metadata": {
    "execution": {
     "iopub.execute_input": "2021-08-01T11:51:49.590412Z",
     "iopub.status.busy": "2021-08-01T11:51:49.584109Z",
     "iopub.status.idle": "2021-08-01T11:51:51.759772Z",
     "shell.execute_reply": "2021-08-01T11:51:51.760331Z",
     "shell.execute_reply.started": "2021-07-31T09:44:58.867986Z"
    },
    "papermill": {
     "duration": 2.21646,
     "end_time": "2021-08-01T11:51:51.760643",
     "exception": false,
     "start_time": "2021-08-01T11:51:49.544183",
     "status": "completed"
    },
    "tags": []
   },
   "outputs": [],
   "source": [
    "import os\n",
    "import gc\n",
    "import sys\n",
    "import pandas as pd \n",
    "import numpy as np\n",
    "import matplotlib.pyplot as plt\n",
    "import seaborn as sns\n",
    "\n",
    "#preprocessing :\n",
    "from sklearn.preprocessing import MinMaxScaler,StandardScaler,scale\n",
    "from sklearn.preprocessing import LabelEncoder\n",
    "from sklearn.pipeline import Pipeline\n",
    "from sklearn.utils.class_weight import compute_class_weight\n",
    "\n",
    "from sklearn.cluster import KMeans\n",
    "\n",
    "#k fold\n",
    "from sklearn.model_selection import StratifiedKFold,train_test_split,KFold\n",
    "#metrics\n",
    "from sklearn.metrics import balanced_accuracy_score,brier_score_loss\n",
    "\n",
    "\n",
    "\n",
    "#deep learning\n",
    "# import tensorflow as tf \n",
    "# from tensorflow.keras import layers\n",
    "# from tensorflow.keras import Model\n",
    "# from tensorflow.keras import backend as K\n",
    "\n",
    "\n",
    "\n",
    "#training\n",
    "from catboost import CatBoostClassifier as cb\n",
    "\n",
    "\n",
    "#hyperparam optimization\n",
    "import optuna\n",
    "from optuna import Trial\n",
    "\n",
    "\n",
    "import warnings \n",
    "warnings.filterwarnings('ignore')"
   ]
  },
  {
   "cell_type": "markdown",
   "id": "desperate-concentrate",
   "metadata": {
    "papermill": {
     "duration": 0.029456,
     "end_time": "2021-08-01T11:51:51.819792",
     "exception": false,
     "start_time": "2021-08-01T11:51:51.790336",
     "status": "completed"
    },
    "tags": []
   },
   "source": [
    "**Training Data**"
   ]
  },
  {
   "cell_type": "code",
   "execution_count": 2,
   "id": "great-economics",
   "metadata": {
    "execution": {
     "iopub.execute_input": "2021-08-01T11:51:51.884655Z",
     "iopub.status.busy": "2021-08-01T11:51:51.883991Z",
     "iopub.status.idle": "2021-08-01T11:51:52.346037Z",
     "shell.execute_reply": "2021-08-01T11:51:52.346546Z",
     "shell.execute_reply.started": "2021-07-31T09:44:58.877476Z"
    },
    "papermill": {
     "duration": 0.4973,
     "end_time": "2021-08-01T11:51:52.346713",
     "exception": false,
     "start_time": "2021-08-01T11:51:51.849413",
     "status": "completed"
    },
    "tags": []
   },
   "outputs": [
    {
     "data": {
      "text/plain": [
       "(257407, 3)"
      ]
     },
     "execution_count": 2,
     "metadata": {},
     "output_type": "execute_result"
    }
   ],
   "source": [
    "train=pd.read_csv('../input/geoffrey-hinton-fellowship-hackathon-2/Training Data.csv')\n",
    "target=pd.read_csv('../input/geoffrey-hinton-fellowship-hackathon-2/Training Data Target.csv')\n",
    "test=pd.read_csv('../input/geoffrey-hinton-fellowship-hackathon-2/Test Data.csv')\n",
    "\n",
    "train.shape"
   ]
  },
  {
   "cell_type": "code",
   "execution_count": 3,
   "id": "young-process",
   "metadata": {
    "execution": {
     "iopub.execute_input": "2021-08-01T11:51:52.417690Z",
     "iopub.status.busy": "2021-08-01T11:51:52.416721Z",
     "iopub.status.idle": "2021-08-01T11:51:52.431694Z",
     "shell.execute_reply": "2021-08-01T11:51:52.431186Z",
     "shell.execute_reply.started": "2021-07-31T09:44:59.126358Z"
    },
    "papermill": {
     "duration": 0.054896,
     "end_time": "2021-08-01T11:51:52.431829",
     "exception": false,
     "start_time": "2021-08-01T11:51:52.376933",
     "status": "completed"
    },
    "tags": []
   },
   "outputs": [
    {
     "data": {
      "text/plain": [
       "(120198, 3)"
      ]
     },
     "execution_count": 3,
     "metadata": {},
     "output_type": "execute_result"
    }
   ],
   "source": [
    "train=train[train['user_id'].isin(target['user_id'])]\n",
    "train.shape"
   ]
  },
  {
   "cell_type": "code",
   "execution_count": 4,
   "id": "theoretical-gentleman",
   "metadata": {
    "execution": {
     "iopub.execute_input": "2021-08-01T11:51:52.496302Z",
     "iopub.status.busy": "2021-08-01T11:51:52.495666Z",
     "iopub.status.idle": "2021-08-01T11:51:52.513750Z",
     "shell.execute_reply": "2021-08-01T11:51:52.514228Z",
     "shell.execute_reply.started": "2021-07-31T09:44:59.145267Z"
    },
    "papermill": {
     "duration": 0.052158,
     "end_time": "2021-08-01T11:51:52.514403",
     "exception": false,
     "start_time": "2021-08-01T11:51:52.462245",
     "status": "completed"
    },
    "tags": []
   },
   "outputs": [
    {
     "data": {
      "text/plain": [
       "array(['Home Decor', 'Fitness', 'Board Games', 'Back to School', 'Phones',\n",
       "       'Fashion', 'Toys', 'Consumer Durables', 'Painiting Supplies',\n",
       "       'TVs', 'Groceries', 'Gaming', 'Laptops', 'Beauty Products',\n",
       "       'Pet Supplies', 'Books', 'Kitchen cleaning Supplies', 'Ereaders'],\n",
       "      dtype=object)"
      ]
     },
     "execution_count": 4,
     "metadata": {},
     "output_type": "execute_result"
    }
   ],
   "source": [
    "categories=train.category.unique()\n",
    "categories"
   ]
  },
  {
   "cell_type": "code",
   "execution_count": 5,
   "id": "weird-messenger",
   "metadata": {
    "execution": {
     "iopub.execute_input": "2021-08-01T11:51:52.581371Z",
     "iopub.status.busy": "2021-08-01T11:51:52.580691Z",
     "iopub.status.idle": "2021-08-01T11:51:52.589250Z",
     "shell.execute_reply": "2021-08-01T11:51:52.588641Z",
     "shell.execute_reply.started": "2021-07-31T09:44:59.164634Z"
    },
    "papermill": {
     "duration": 0.044228,
     "end_time": "2021-08-01T11:51:52.589393",
     "exception": false,
     "start_time": "2021-08-01T11:51:52.545165",
     "status": "completed"
    },
    "tags": []
   },
   "outputs": [
    {
     "name": "stdout",
     "output_type": "stream",
     "text": [
      "Number of Unique Users 13245\n"
     ]
    }
   ],
   "source": [
    "print('Number of Unique Users {}'.format(train['user_id'].nunique()))"
   ]
  },
  {
   "cell_type": "code",
   "execution_count": 6,
   "id": "stylish-setting",
   "metadata": {
    "execution": {
     "iopub.execute_input": "2021-08-01T11:51:52.674784Z",
     "iopub.status.busy": "2021-08-01T11:51:52.674067Z",
     "iopub.status.idle": "2021-08-01T11:51:53.120203Z",
     "shell.execute_reply": "2021-08-01T11:51:53.120725Z",
     "shell.execute_reply.started": "2021-07-31T09:44:59.174723Z"
    },
    "papermill": {
     "duration": 0.499617,
     "end_time": "2021-08-01T11:51:53.120914",
     "exception": false,
     "start_time": "2021-08-01T11:51:52.621297",
     "status": "completed"
    },
    "tags": []
   },
   "outputs": [
    {
     "data": {
      "image/png": "[encoded data removed]",
      "text/plain": [
       "<Figure size 1152x576 with 1 Axes>"
      ]
     },
     "metadata": {
      "needs_background": "light"
     },
     "output_type": "display_data"
    }
   ],
   "source": [
    "def plot_count(df,col,title):\n",
    "    plt.subplots(figsize=(16,8))\n",
    "    sns.countplot(df[col])\n",
    "    plt.xticks(rotation=45)\n",
    "    plt.title(title)\n",
    "    plt.show()\n",
    "    \n",
    "    \n",
    "plot_count(train,'category','training data categories')"
   ]
  },
  {
   "cell_type": "code",
   "execution_count": 7,
   "id": "completed-indonesia",
   "metadata": {
    "execution": {
     "iopub.execute_input": "2021-08-01T11:51:53.238296Z",
     "iopub.status.busy": "2021-08-01T11:51:53.230935Z",
     "iopub.status.idle": "2021-08-01T11:51:53.606033Z",
     "shell.execute_reply": "2021-08-01T11:51:53.605371Z",
     "shell.execute_reply.started": "2021-07-31T09:44:59.633204Z"
    },
    "papermill": {
     "duration": 0.452777,
     "end_time": "2021-08-01T11:51:53.606173",
     "exception": false,
     "start_time": "2021-08-01T11:51:53.153396",
     "status": "completed"
    },
    "tags": []
   },
   "outputs": [
    {
     "data": {
      "image/png": "[encoded data removed]",
      "text/plain": [
       "<Figure size 1152x576 with 1 Axes>"
      ]
     },
     "metadata": {
      "needs_background": "light"
     },
     "output_type": "display_data"
    }
   ],
   "source": [
    "plot_count(train,'category','training target categories')"
   ]
  },
  {
   "cell_type": "markdown",
   "id": "timely-median",
   "metadata": {
    "papermill": {
     "duration": 0.033864,
     "end_time": "2021-08-01T11:51:53.674455",
     "exception": false,
     "start_time": "2021-08-01T11:51:53.640591",
     "status": "completed"
    },
    "tags": []
   },
   "source": [
    "**Creating Features**"
   ]
  },
  {
   "cell_type": "code",
   "execution_count": 8,
   "id": "future-laptop",
   "metadata": {
    "execution": {
     "iopub.execute_input": "2021-08-01T11:51:53.751090Z",
     "iopub.status.busy": "2021-08-01T11:51:53.750082Z",
     "iopub.status.idle": "2021-08-01T11:51:53.753113Z",
     "shell.execute_reply": "2021-08-01T11:51:53.752485Z",
     "shell.execute_reply.started": "2021-07-31T09:45:00.123676Z"
    },
    "papermill": {
     "duration": 0.04474,
     "end_time": "2021-08-01T11:51:53.753246",
     "exception": false,
     "start_time": "2021-08-01T11:51:53.708506",
     "status": "completed"
    },
    "tags": []
   },
   "outputs": [],
   "source": [
    "# K means\n",
    "#finding ideal k by elbow method:\n",
    "\n",
    "def find_ideal_k(m,df,cols):\n",
    "    '''find ideal k for clustering using elbw method'''\n",
    "    \n",
    "    \n",
    "    X_temp=scale(df[cols].copy())\n",
    "    inertia=[]\n",
    "    K=[i for i in range(2,m)]\n",
    "    for k in K:\n",
    "        km=KMeans(n_clusters=k)\n",
    "        km.fit(X_temp)\n",
    "        inertia.append(km.inertia_)\n",
    "    \n",
    "    plt.figure(figsize=(16,8))\n",
    "    plt.plot(K,inertia)\n",
    "    plt.xlabel('K')\n",
    "    plt.ylabel('inertia')\n",
    "    plt.show()\n",
    "    \n",
    "    del X_temp;gc.collect()\n",
    "\n",
    "    \n",
    "#category columns\n",
    "# find_ideal_k(40,X,categories)   \n",
    "# find_ideal_k(40,X,aov_cols)   \n"
   ]
  },
  {
   "cell_type": "markdown",
   "id": "dominican-recycling",
   "metadata": {
    "papermill": {
     "duration": 0.033813,
     "end_time": "2021-08-01T11:51:53.821096",
     "exception": false,
     "start_time": "2021-08-01T11:51:53.787283",
     "status": "completed"
    },
    "tags": []
   },
   "source": [
    "# **Feature Transformer**"
   ]
  },
  {
   "cell_type": "code",
   "execution_count": 9,
   "id": "built-scenario",
   "metadata": {
    "execution": {
     "iopub.execute_input": "2021-08-01T11:51:53.918265Z",
     "iopub.status.busy": "2021-08-01T11:51:53.917501Z",
     "iopub.status.idle": "2021-08-01T11:51:53.920578Z",
     "shell.execute_reply": "2021-08-01T11:51:53.919964Z",
     "shell.execute_reply.started": "2021-07-31T09:45:00.135354Z"
    },
    "papermill": {
     "duration": 0.065121,
     "end_time": "2021-08-01T11:51:53.920725",
     "exception": false,
     "start_time": "2021-08-01T11:51:53.855604",
     "status": "completed"
    },
    "tags": []
   },
   "outputs": [],
   "source": [
    "class feature_transformer:\n",
    "    '''make features out of data provided'''\n",
    "    \n",
    "    def __init__(self,\n",
    "                 test_run=False):\n",
    "        self.test_run=test_run\n",
    "        self.super_categories=['Education_Hobbies_work','Electronics','Home','Personal','Kids']\n",
    "        \n",
    "        \n",
    "    def agg_features(self,df):\n",
    "        agg_cols=['median','min','max','sum','count','mean','std']\n",
    "        \n",
    "        #train\n",
    "        aov_features=pd.DataFrame(df.groupby('user_id').agg({'aov':agg_cols})).droplevel(0,axis=1)\n",
    "        aov_features.reset_index(inplace=True)\n",
    "        aov_features.rename({k:f'{k}_aov' for k in agg_cols},axis=1,inplace=True)        \n",
    "\n",
    "        \n",
    "        self.aov_cols=list({k:f'{k}_aov' for k in agg_cols}.values())\n",
    "        \n",
    "        return aov_features\n",
    "    \n",
    "    \n",
    "    def vectorize(self,df):\n",
    "        '''return a dataframe with the customer interaction with products'''\n",
    "        df1=pd.DataFrame()\n",
    "        df1['user_id']=df['user_id'].unique()\n",
    "        categories=df['category'].unique()\n",
    "        df1[categories]=0\n",
    "\n",
    "\n",
    "        df1[[f'{cat}_spend'for cat in categories]]=0     \n",
    "               \n",
    "\n",
    "        for user_id in df1.user_id:\n",
    "            df_user=df[df['user_id']==user_id]\n",
    "\n",
    "\n",
    "            for ids,row in df_user.iterrows():\n",
    "                #number of times user has bought a particular category\n",
    "                df1.loc[df1['user_id']==user_id,row['category']]+=1 \n",
    "\n",
    "                #sum of money user has spend on that category\n",
    "                df1.loc[df1['user_id']==user_id,row['category']+'_spend']+=row['aov']            \n",
    "\n",
    "        return df1\n",
    "    \n",
    "    def avg_spend(self,row):\n",
    "        '''avg spend for each category'''\n",
    "        categories=list(self.categories)\n",
    "        categories.extend(list(self.super_categories))\n",
    "        \n",
    "        for cat in categories:\n",
    "            if row[cat]!=0:\n",
    "                row[cat + '_avg' + '_spend']=row[cat + '_spend']/row[cat]\n",
    "            else:\n",
    "                row[cat + '_avg' + '_spend']=0\n",
    "                \n",
    "        return row\n",
    "    \n",
    "\n",
    "    \n",
    "    def sup_categ(self,\n",
    "                  df):\n",
    "        '''count of Items purchased from these super categories'''\n",
    "        \n",
    "        sup_categories=self.super_categories\n",
    "        \n",
    "        Education_Hobbies_work=['Back to School','Painiting Supplies','Laptops',\n",
    "                               'Books','Ereaders','Board Games','Gaming']\n",
    "        \n",
    "        Electronics=['Phones','TVs','Gaming','Laptops','Ereaders']\n",
    "        Personal=['Fitness','Fashion','Consumer Durables','Beauty Products']\n",
    "        Home=['Home Decor','Consumer Durables','TVs','Groceries',\n",
    "              'Kitchen cleaning Supplies','Pet Supplies']\n",
    "        Kids=['Board Games','Back to School','Toys','Gaming']\n",
    "        \n",
    "        for cat in sup_categories:\n",
    "            #count in super cat\n",
    "            df[f'{cat}']= df[eval(cat)].sum(axis=1)\n",
    "            \n",
    "            #amount spend in each super cat\n",
    "            df[f'{cat}_spend']= df[[str(i)+'_spend' for i in eval(cat)]].sum(axis=1)\n",
    "            \n",
    "            \n",
    "        return df\n",
    "             \n",
    "\n",
    "    def cluster_features(self,\n",
    "                         X,X_test,\n",
    "                         num_init=50):\n",
    "        \n",
    "        categories=[f'{c}_spend' for c in self.categories]\n",
    "        aov_cols=self.aov_cols\n",
    "        sup_categories=[f'{c}_spend' for c in self.super_categories]\n",
    "\n",
    "        #categories \n",
    "        km_pipe=KMeans(n_clusters=15,n_init=num_init,init='k-means++')\n",
    "\n",
    "        X['Cluster_categories']=km_pipe.fit_predict(X[categories])\n",
    "        X_test['Cluster_categories']=km_pipe.predict(X_test[categories])\n",
    "        \n",
    "        #super Categories\n",
    "        km_pipe=KMeans(n_clusters=10,n_init=num_init,init='k-means++')\n",
    "        X['Cluster_Sup_cat']=km_pipe.fit_predict(X[sup_categories])\n",
    "        X_test['Cluster_Sup_cat']=km_pipe.predict(X_test[sup_categories])\n",
    "        \n",
    "        \n",
    "\n",
    "        #aov cols\n",
    "        km_pipe=Pipeline([('scale',StandardScaler()) ,\n",
    "                          ('kmeans',KMeans(n_clusters=10,n_init=num_init,init='k-means++'))])\n",
    "\n",
    "        X['Cluster_aov']=km_pipe.fit_predict(X[aov_cols])\n",
    "        X_test['Cluster_aov']=km_pipe.predict(X_test[aov_cols])    \n",
    "\n",
    "        return X,X_test\n",
    "    \n",
    "    def transform(self,\n",
    "                 train_df,\n",
    "                 test_df):\n",
    "        self.categories=train_df['category'].unique()\n",
    "        \n",
    "        if self.test_run:\n",
    "            train_df=train_df.sample(1000)\n",
    "            test_df=test_df.sample(1000)\n",
    "            \n",
    "        \n",
    "#       train features\n",
    "        X=self.vectorize(train_df)\n",
    "        X=self.sup_categ(X)\n",
    "        X=X.merge(self.agg_features(train_df),on='user_id',how='inner')\n",
    "        X=X.apply(lambda x: self.avg_spend(x),axis=1)\n",
    "        X=X.fillna(0)\n",
    "        \n",
    "        \n",
    "        #test features        \n",
    "        X_test=self.vectorize(test_df)\n",
    "        X_test=self.sup_categ(X_test)\n",
    "        X_test=X_test.merge(self.agg_features(test_df),on='user_id',how='inner')\n",
    "        X_test=X_test.apply(lambda x: self.avg_spend(x),axis=1)\n",
    "        X_test=X_test.fillna(0)\n",
    "        \n",
    "        \n",
    "        #cluster\n",
    "        X,X_test=self.cluster_features(X=X,\n",
    "                                      X_test=X_test)\n",
    "\n",
    "        \n",
    "        return X,X_test\n",
    "    "
   ]
  },
  {
   "cell_type": "code",
   "execution_count": 10,
   "id": "experienced-spine",
   "metadata": {
    "execution": {
     "iopub.execute_input": "2021-08-01T11:51:54.000246Z",
     "iopub.status.busy": "2021-08-01T11:51:53.999495Z",
     "iopub.status.idle": "2021-08-01T12:20:39.691998Z",
     "shell.execute_reply": "2021-08-01T12:20:39.692547Z",
     "shell.execute_reply.started": "2021-07-31T09:45:00.1782Z"
    },
    "papermill": {
     "duration": 1725.738443,
     "end_time": "2021-08-01T12:20:39.692833",
     "exception": false,
     "start_time": "2021-08-01T11:51:53.954390",
     "status": "completed"
    },
    "tags": []
   },
   "outputs": [
    {
     "name": "stdout",
     "output_type": "stream",
     "text": [
      "CPU times: user 36min 47s, sys: 3min 28s, total: 40min 16s\n",
      "Wall time: 28min 45s\n"
     ]
    }
   ],
   "source": [
    "%%time\n",
    "\n",
    "#make features\n",
    "    \n",
    "feature_transformer=feature_transformer(test_run=False)\n",
    "\n",
    "X,X_test=feature_transformer.transform(train_df=train,\n",
    "                                       test_df=test)"
   ]
  },
  {
   "cell_type": "code",
   "execution_count": 11,
   "id": "hybrid-margin",
   "metadata": {
    "execution": {
     "iopub.execute_input": "2021-08-01T12:20:39.768319Z",
     "iopub.status.busy": "2021-08-01T12:20:39.767652Z",
     "iopub.status.idle": "2021-08-01T12:20:39.798371Z",
     "shell.execute_reply": "2021-08-01T12:20:39.798934Z",
     "shell.execute_reply.started": "2021-07-31T10:10:06.852494Z"
    },
    "papermill": {
     "duration": 0.072374,
     "end_time": "2021-08-01T12:20:39.799128",
     "exception": false,
     "start_time": "2021-08-01T12:20:39.726754",
     "status": "completed"
    },
    "tags": []
   },
   "outputs": [
    {
     "data": {
      "text/plain": [
       "(13245, 81)"
      ]
     },
     "execution_count": 11,
     "metadata": {},
     "output_type": "execute_result"
    }
   ],
   "source": [
    "\n",
    "#merge target\n",
    "X=X.merge(target[['user_id','category']],on='user_id',how='inner')\n",
    "\n",
    "\n",
    "#reset index\n",
    "X.reset_index(inplace=True,drop=True)\n",
    "X_test.reset_index(inplace=True,drop=True)\n",
    "X.shape"
   ]
  },
  {
   "cell_type": "code",
   "execution_count": 12,
   "id": "comparative-pattern",
   "metadata": {
    "execution": {
     "iopub.execute_input": "2021-08-01T12:20:39.872756Z",
     "iopub.status.busy": "2021-08-01T12:20:39.872107Z",
     "iopub.status.idle": "2021-08-01T12:20:39.883281Z",
     "shell.execute_reply": "2021-08-01T12:20:39.883840Z",
     "shell.execute_reply.started": "2021-07-31T10:10:06.884716Z"
    },
    "papermill": {
     "duration": 0.049645,
     "end_time": "2021-08-01T12:20:39.884022",
     "exception": false,
     "start_time": "2021-08-01T12:20:39.834377",
     "status": "completed"
    },
    "tags": []
   },
   "outputs": [
    {
     "data": {
      "text/plain": [
       "14"
      ]
     },
     "execution_count": 12,
     "metadata": {},
     "output_type": "execute_result"
    }
   ],
   "source": [
    "#encoding target category\n",
    "label_enc=LabelEncoder()\n",
    "X['category']=label_enc.fit_transform(X['category'])\n",
    "classes=label_enc.classes_                        \n",
    "\n",
    "#num_classes\n",
    "num_classes=len(classes)\n",
    "num_classes"
   ]
  },
  {
   "cell_type": "code",
   "execution_count": 13,
   "id": "christian-transformation",
   "metadata": {
    "execution": {
     "iopub.execute_input": "2021-08-01T12:20:39.957809Z",
     "iopub.status.busy": "2021-08-01T12:20:39.957206Z",
     "iopub.status.idle": "2021-08-01T12:20:39.966529Z",
     "shell.execute_reply": "2021-08-01T12:20:39.967043Z",
     "shell.execute_reply.started": "2021-07-31T10:10:06.900217Z"
    },
    "papermill": {
     "duration": 0.048492,
     "end_time": "2021-08-01T12:20:39.967239",
     "exception": false,
     "start_time": "2021-08-01T12:20:39.918747",
     "status": "completed"
    },
    "tags": []
   },
   "outputs": [],
   "source": [
    "# train data \n",
    "y=X.pop('category')\n",
    "\n",
    "tr_class=y.unique()\n",
    "\n",
    "\n",
    "#cal class weights if required\n",
    "weights = compute_class_weight(class_weight='balanced', \n",
    "                               classes=tr_class, \n",
    "                               y=y)\n",
    "\n",
    "class_weights = dict(zip(tr_class, weights))\n",
    "\n",
    "\n",
    "assert set(X.columns)==set(X_test.columns), 'columns donot match'"
   ]
  },
  {
   "cell_type": "code",
   "execution_count": 14,
   "id": "exotic-airline",
   "metadata": {
    "execution": {
     "iopub.execute_input": "2021-08-01T12:20:40.042455Z",
     "iopub.status.busy": "2021-08-01T12:20:40.041779Z",
     "iopub.status.idle": "2021-08-01T12:20:40.055401Z",
     "shell.execute_reply": "2021-08-01T12:20:40.054813Z",
     "shell.execute_reply.started": "2021-07-31T10:10:06.920682Z"
    },
    "papermill": {
     "duration": 0.052828,
     "end_time": "2021-08-01T12:20:40.055559",
     "exception": false,
     "start_time": "2021-08-01T12:20:40.002731",
     "status": "completed"
    },
    "tags": []
   },
   "outputs": [],
   "source": [
    "#user ids\n",
    "train_user_ids=X.pop('user_id')\n",
    "test_user_ids=X_test.pop('user_id')"
   ]
  },
  {
   "cell_type": "code",
   "execution_count": 15,
   "id": "positive-fourth",
   "metadata": {
    "execution": {
     "iopub.execute_input": "2021-08-01T12:20:40.131449Z",
     "iopub.status.busy": "2021-08-01T12:20:40.130787Z",
     "iopub.status.idle": "2021-08-01T12:20:40.132809Z",
     "shell.execute_reply": "2021-08-01T12:20:40.133291Z",
     "shell.execute_reply.started": "2021-07-31T10:10:06.937812Z"
    },
    "papermill": {
     "duration": 0.042256,
     "end_time": "2021-08-01T12:20:40.133465",
     "exception": false,
     "start_time": "2021-08-01T12:20:40.091209",
     "status": "completed"
    },
    "tags": []
   },
   "outputs": [],
   "source": [
    "#columns with categorical features\n",
    "\n",
    "categorical_columns=['Cluster_categories','Cluster_aov','Cluster_Sup_cat']"
   ]
  },
  {
   "cell_type": "code",
   "execution_count": 16,
   "id": "constant-consolidation",
   "metadata": {
    "execution": {
     "iopub.execute_input": "2021-08-01T12:20:40.207206Z",
     "iopub.status.busy": "2021-08-01T12:20:40.206520Z",
     "iopub.status.idle": "2021-08-01T12:20:40.430254Z",
     "shell.execute_reply": "2021-08-01T12:20:40.430980Z",
     "shell.execute_reply.started": "2021-07-31T11:55:20.480508Z"
    },
    "papermill": {
     "duration": 0.262272,
     "end_time": "2021-08-01T12:20:40.431231",
     "exception": false,
     "start_time": "2021-08-01T12:20:40.168959",
     "status": "completed"
    },
    "tags": []
   },
   "outputs": [
    {
     "data": {
      "text/plain": [
       "<AxesSubplot:ylabel='Frequency'>"
      ]
     },
     "execution_count": 16,
     "metadata": {},
     "output_type": "execute_result"
    },
    {
     "data": {
      "image/png": "[encoded data removed]",
      "text/plain": [
       "<Figure size 432x288 with 1 Axes>"
      ]
     },
     "metadata": {
      "needs_background": "light"
     },
     "output_type": "display_data"
    }
   ],
   "source": [
    "X['Cluster_categories'].plot(kind='hist')\n"
   ]
  },
  {
   "cell_type": "markdown",
   "id": "tested-elder",
   "metadata": {
    "papermill": {
     "duration": 0.036308,
     "end_time": "2021-08-01T12:20:40.508070",
     "exception": false,
     "start_time": "2021-08-01T12:20:40.471762",
     "status": "completed"
    },
    "tags": []
   },
   "source": [
    "# **OPTUNA Hyperparam optimization**"
   ]
  },
  {
   "cell_type": "code",
   "execution_count": 17,
   "id": "academic-session",
   "metadata": {
    "execution": {
     "iopub.execute_input": "2021-08-01T12:20:40.603631Z",
     "iopub.status.busy": "2021-08-01T12:20:40.602162Z",
     "iopub.status.idle": "2021-08-01T12:20:40.615164Z",
     "shell.execute_reply": "2021-08-01T12:20:40.614517Z",
     "shell.execute_reply.started": "2021-07-31T10:10:06.943641Z"
    },
    "papermill": {
     "duration": 0.061361,
     "end_time": "2021-08-01T12:20:40.615319",
     "exception": false,
     "start_time": "2021-08-01T12:20:40.553958",
     "status": "completed"
    },
    "tags": []
   },
   "outputs": [],
   "source": [
    "def objective(trial:Trial):\n",
    "    \n",
    "    #splitting training data \n",
    "    x_train,x_test,y_train,y_test=train_test_split(X,y,random_state=7,\n",
    "                                                  train_size=0.7, stratify=y)\n",
    "    \n",
    "    #hyperparam_grid\n",
    "    params={   'verbose'        : 0,\n",
    "               'loss_function'  :'MultiClass',\n",
    "               'classes_count'  : len(classes),\n",
    "               'depth'          :trial.suggest_int('depth',4,8),\n",
    "               'learning_rate'  :trial.suggest_loguniform('learning_rate', 1e-3, 1e-1),\n",
    "               'l2_leaf_reg'    :trial.suggest_loguniform('l2_leaf_reg', 1e-2, 10.0),\n",
    "               'random_strength':trial.suggest_uniform('random_strength',1e-2,0.3),\n",
    "               'max_bin'        :trial.suggest_int('max_bin',64,254),\n",
    "#                'grow_policy'    :trial.suggest_categorical('grow_policy',\n",
    "#                                                            ['SymmetricTree','Depthwise','Lossguide']),\n",
    "               'iterations'     :trial.suggest_int('iterations',1000,2000),\n",
    "#                'max_leaves'     :trial.suggest_int('max_leaves',2,64),\n",
    "               \"colsample_bylevel\": trial.suggest_float(\"colsample_bylevel\", 0.1, 0.6),\n",
    "#                \"boosting_type\": trial.suggest_categorical(\"boosting_type\", [\"Ordered\", \"Plain\"]),\n",
    "               \"bootstrap_type\": 'MVS',\n",
    "#                                  trial.suggest_categorical(\"bootstrap_type\",\n",
    "#                                                            [\"Bayesian\", \"MVS\",'Bernoulli']),\n",
    "               'eval_metric': 'MultiClass'\n",
    "                }\n",
    "    \n",
    "    \n",
    "    try:\n",
    "        model = cb(**params)\n",
    "\n",
    "        model.fit(x_train,y_train,\n",
    "                 eval_set=[(x_test,y_test)],\n",
    "                 verbose=0,\n",
    "                 cat_features=categorical_columns,\n",
    "                 early_stopping_rounds=300)\n",
    "#                  class_weights=cw)\n",
    "\n",
    "        preds=model.predict(x_test)\n",
    "\n",
    "        acc= balanced_accuracy_score(y_test,preds)\n",
    "        \n",
    "        return acc\n",
    "\n",
    "    except Exception as e:\n",
    "        print(e)\n",
    "        return None\n",
    "   \n",
    "    "
   ]
  },
  {
   "cell_type": "code",
   "execution_count": 18,
   "id": "interracial-skiing",
   "metadata": {
    "execution": {
     "iopub.execute_input": "2021-08-01T12:20:40.694933Z",
     "iopub.status.busy": "2021-08-01T12:20:40.693920Z",
     "iopub.status.idle": "2021-08-01T12:20:40.697608Z",
     "shell.execute_reply": "2021-08-01T12:20:40.696881Z",
     "shell.execute_reply.started": "2021-07-31T10:10:06.95642Z"
    },
    "papermill": {
     "duration": 0.04609,
     "end_time": "2021-08-01T12:20:40.697757",
     "exception": false,
     "start_time": "2021-08-01T12:20:40.651667",
     "status": "completed"
    },
    "tags": []
   },
   "outputs": [],
   "source": [
    "def get_best_params(time_out=9000):\n",
    "    sampler = optuna.samplers.TPESampler(seed=7)  # Make the sampler behave in a deterministic way.\n",
    "    study=optuna.create_study(direction='maximize',sampler=sampler)\n",
    "    study.optimize(objective, n_trials=300, timeout=time_out)\n",
    "    \n",
    "    print(\"Number of finished trials: {}\".format(len(study.trials)))\n",
    "    \n",
    "    return study.best_trial.params\n",
    "\n",
    "# best_params=get_best_params()"
   ]
  },
  {
   "cell_type": "code",
   "execution_count": 19,
   "id": "miniature-haiti",
   "metadata": {
    "execution": {
     "iopub.execute_input": "2021-08-01T12:20:40.781004Z",
     "iopub.status.busy": "2021-08-01T12:20:40.779833Z",
     "iopub.status.idle": "2021-08-01T12:20:40.783371Z",
     "shell.execute_reply": "2021-08-01T12:20:40.782819Z",
     "shell.execute_reply.started": "2021-07-31T10:57:04.363441Z"
    },
    "papermill": {
     "duration": 0.048069,
     "end_time": "2021-08-01T12:20:40.783546",
     "exception": false,
     "start_time": "2021-08-01T12:20:40.735477",
     "status": "completed"
    },
    "tags": []
   },
   "outputs": [],
   "source": [
    "#29/7/21\n",
    "best_params={\n",
    "             'verbose'        : 0,\n",
    "             'loss_function'  :'MultiClass',\n",
    "             'classes_count'  : len(classes),\n",
    "             \"bootstrap_type\": 'MVS',\n",
    "             'depth': 4, \n",
    "             'learning_rate': 0.06365747563313634,\n",
    "             'l2_leaf_reg': 0.14164990508678563,\n",
    "             'random_strength': 0.18177681941882445,\n",
    "             'max_bin': 254,\n",
    "             'iterations': 3000,\n",
    "#             1505\n",
    "             'colsample_bylevel': 0.4732653286911665}\n",
    "\n",
    "\n",
    "# 26/7/21\n",
    "# best_params={\n",
    "#              'verbose'        : 0,\n",
    "#              'loss_function'  :'MultiClass',\n",
    "#              'classes_count'  : len(classes),\n",
    "#              \"bootstrap_type\": 'MVS',\n",
    "#              'depth': 5,\n",
    "#              'learning_rate': 0.09962164243695339,\n",
    "#              'l2_leaf_reg': 1.2575960096355996,\n",
    "#              'random_strength': 0.07176128132724813,\n",
    "#              'max_bin': 220, \n",
    "#              'iterations': 1206, \n",
    "#              'colsample_bylevel': 0.5598653634090404}\n",
    "\n",
    "# 25/7/21\n",
    "# best_params={\n",
    "#              'verbose'        : 0,\n",
    "#              'loss_function'  :'MultiClass',\n",
    "#              'classes_count'  : len(classes),\n",
    "#              \"bootstrap_type\": 'MVS',\n",
    "#              'depth': 4, \n",
    "#              'learning_rate': 0.07240696360883225, \n",
    "#              'l2_leaf_reg': 0.37748668450031264, \n",
    "#              'random_strength': 0.14114940406399043, \n",
    "#              'max_bin': 170, 'iterations': 2148, \n",
    "#              'colsample_bylevel': 0.41308547541216933}"
   ]
  },
  {
   "cell_type": "markdown",
   "id": "active-buying",
   "metadata": {
    "papermill": {
     "duration": 0.037339,
     "end_time": "2021-08-01T12:20:40.859239",
     "exception": false,
     "start_time": "2021-08-01T12:20:40.821900",
     "status": "completed"
    },
    "tags": []
   },
   "source": [
    "# Model Fitting and Prediction"
   ]
  },
  {
   "cell_type": "code",
   "execution_count": 20,
   "id": "novel-calculator",
   "metadata": {
    "execution": {
     "iopub.execute_input": "2021-08-01T12:20:40.944804Z",
     "iopub.status.busy": "2021-08-01T12:20:40.943940Z",
     "iopub.status.idle": "2021-08-01T12:20:40.948032Z",
     "shell.execute_reply": "2021-08-01T12:20:40.947485Z",
     "shell.execute_reply.started": "2021-07-31T10:57:05.488456Z"
    },
    "papermill": {
     "duration": 0.050787,
     "end_time": "2021-08-01T12:20:40.948198",
     "exception": false,
     "start_time": "2021-08-01T12:20:40.897411",
     "status": "completed"
    },
    "tags": []
   },
   "outputs": [],
   "source": [
    "def k_fold_predict(k,\n",
    "                  params=best_params):\n",
    "    \n",
    "    \n",
    "    skf=StratifiedKFold(n_splits=k)\n",
    "    \n",
    "    mean_preds=np.zeros(shape=(X_test.shape[0],len(classes)))\n",
    "    train_check=np.zeros(shape=(X.shape[0],len(classes)))\n",
    "    \n",
    "    \n",
    "\n",
    "    for train_idx,val_idx in skf.split(X,y):\n",
    "        x_t,x_v=X.iloc[train_idx],X.iloc[val_idx]\n",
    "        y_t,y_v=y.iloc[train_idx],y.iloc[val_idx]\n",
    "        \n",
    "        model=cb(**params)        \n",
    "        model.fit(x_t,y_t,\n",
    "                 cat_features=categorical_columns)\n",
    "        \n",
    "        print('Validation score {}'.format(balanced_accuracy_score(\n",
    "                                            y_v,model.predict(x_v))))\n",
    "        \n",
    "        #test predictions\n",
    "        mean_preds+=model.predict(X_test,prediction_type='Probability')\n",
    "        \n",
    "        #training preds\n",
    "        train_check+=model.predict(X,prediction_type='Probability')\n",
    "    \n",
    "    mean_preds=mean_preds/k\n",
    "    train_check=train_check/k\n",
    "    \n",
    "    return mean_preds,train_check"
   ]
  },
  {
   "cell_type": "code",
   "execution_count": 21,
   "id": "social-packet",
   "metadata": {
    "execution": {
     "iopub.execute_input": "2021-08-01T12:20:41.029208Z",
     "iopub.status.busy": "2021-08-01T12:20:41.028218Z",
     "iopub.status.idle": "2021-08-01T14:46:55.714020Z",
     "shell.execute_reply": "2021-08-01T14:46:55.713319Z",
     "shell.execute_reply.started": "2021-07-31T10:57:06.298434Z"
    },
    "papermill": {
     "duration": 8774.729488,
     "end_time": "2021-08-01T14:46:55.714185",
     "exception": false,
     "start_time": "2021-08-01T12:20:40.984697",
     "status": "completed"
    },
    "tags": []
   },
   "outputs": [
    {
     "name": "stdout",
     "output_type": "stream",
     "text": [
      "Validation score 0.6520016691865032\n",
      "Validation score 0.671394756486618\n",
      "Validation score 0.7079493769357268\n",
      "Validation score 0.688374383145424\n",
      "Validation score 0.6970222490618507\n",
      "Validation score 0.7129756945388742\n",
      "Validation score 0.6830514806827644\n",
      "Validation score 0.6428552754034151\n",
      "Validation score 0.6542904451183716\n",
      "Validation score 0.5803419210543611\n",
      "Validation score 0.5889532548966682\n",
      "Validation score 0.5865199579280619\n",
      "Validation score 0.690080947352961\n",
      "Validation score 0.5942958816340267\n",
      "Validation score 0.6355694470356242\n",
      "Validation score 0.6151566423795438\n",
      "Validation score 0.6420673126753458\n",
      "Validation score 0.666764737307299\n",
      "Validation score 0.6513762442323947\n",
      "Validation score 0.7062648707439135\n",
      "Validation score 0.6437313072609829\n",
      "Validation score 0.6453351787315859\n",
      "Validation score 0.664195165192497\n",
      "Validation score 0.6522924845281749\n",
      "Validation score 0.7026227025003675\n",
      "Validation score 0.6682017751446666\n",
      "Validation score 0.6095368269728139\n",
      "Validation score 0.6702614624860996\n",
      "Validation score 0.694342128806313\n",
      "Validation score 0.6770962329266577\n",
      "CPU times: user 9h 7min 8s, sys: 6min 23s, total: 9h 13min 31s\n",
      "Wall time: 2h 26min 14s\n"
     ]
    }
   ],
   "source": [
    "%%time\n",
    "preds,train_ch=k_fold_predict(30)\n",
    "\n",
    "preds=pd.DataFrame(preds)\n",
    "train_preds=pd.DataFrame(train_ch)"
   ]
  },
  {
   "cell_type": "code",
   "execution_count": 22,
   "id": "regional-anger",
   "metadata": {
    "execution": {
     "iopub.execute_input": "2021-08-01T14:46:55.812947Z",
     "iopub.status.busy": "2021-08-01T14:46:55.811928Z",
     "iopub.status.idle": "2021-08-01T14:46:55.835630Z",
     "shell.execute_reply": "2021-08-01T14:46:55.836168Z",
     "shell.execute_reply.started": "2021-07-31T11:28:21.247796Z"
    },
    "papermill": {
     "duration": 0.07682,
     "end_time": "2021-08-01T14:46:55.836347",
     "exception": false,
     "start_time": "2021-08-01T14:46:55.759527",
     "status": "completed"
    },
    "tags": []
   },
   "outputs": [
    {
     "data": {
      "text/html": [
       "<div>\n",
       "<style scoped>\n",
       "    .dataframe tbody tr th:only-of-type {\n",
       "        vertical-align: middle;\n",
       "    }\n",
       "\n",
       "    .dataframe tbody tr th {\n",
       "        vertical-align: top;\n",
       "    }\n",
       "\n",
       "    .dataframe thead th {\n",
       "        text-align: right;\n",
       "    }\n",
       "</style>\n",
       "<table border=\"1\" class=\"dataframe\">\n",
       "  <thead>\n",
       "    <tr style=\"text-align: right;\">\n",
       "      <th></th>\n",
       "      <th>Back to School</th>\n",
       "      <th>Consumer Durables</th>\n",
       "      <th>Ereaders</th>\n",
       "      <th>Fashion</th>\n",
       "      <th>Fitness</th>\n",
       "      <th>Gaming</th>\n",
       "      <th>Groceries</th>\n",
       "      <th>Home Decor</th>\n",
       "      <th>Kitchen cleaning Supplies</th>\n",
       "      <th>Laptops</th>\n",
       "      <th>Pet Supplies</th>\n",
       "      <th>Phones</th>\n",
       "      <th>TVs</th>\n",
       "      <th>Toys</th>\n",
       "    </tr>\n",
       "  </thead>\n",
       "  <tbody>\n",
       "    <tr>\n",
       "      <th>0</th>\n",
       "      <td>1.094957e-06</td>\n",
       "      <td>0.000016</td>\n",
       "      <td>0.000015</td>\n",
       "      <td>0.004504</td>\n",
       "      <td>0.000054</td>\n",
       "      <td>2.109298e-07</td>\n",
       "      <td>4.799936e-08</td>\n",
       "      <td>0.000813</td>\n",
       "      <td>1.594228e-09</td>\n",
       "      <td>3.676002e-07</td>\n",
       "      <td>0.000195</td>\n",
       "      <td>0.994345</td>\n",
       "      <td>3.211285e-06</td>\n",
       "      <td>0.000054</td>\n",
       "    </tr>\n",
       "    <tr>\n",
       "      <th>1</th>\n",
       "      <td>7.345921e-08</td>\n",
       "      <td>0.000056</td>\n",
       "      <td>0.053747</td>\n",
       "      <td>0.578522</td>\n",
       "      <td>0.000774</td>\n",
       "      <td>1.964040e-08</td>\n",
       "      <td>2.348524e-09</td>\n",
       "      <td>0.001336</td>\n",
       "      <td>9.862851e-10</td>\n",
       "      <td>2.947302e-05</td>\n",
       "      <td>0.000016</td>\n",
       "      <td>0.365499</td>\n",
       "      <td>7.902727e-07</td>\n",
       "      <td>0.000019</td>\n",
       "    </tr>\n",
       "    <tr>\n",
       "      <th>2</th>\n",
       "      <td>1.000326e-08</td>\n",
       "      <td>0.000017</td>\n",
       "      <td>0.000011</td>\n",
       "      <td>0.004068</td>\n",
       "      <td>0.000030</td>\n",
       "      <td>2.347310e-08</td>\n",
       "      <td>3.617209e-07</td>\n",
       "      <td>0.001132</td>\n",
       "      <td>1.701326e-09</td>\n",
       "      <td>1.071647e-06</td>\n",
       "      <td>0.000317</td>\n",
       "      <td>0.994399</td>\n",
       "      <td>3.131201e-06</td>\n",
       "      <td>0.000021</td>\n",
       "    </tr>\n",
       "    <tr>\n",
       "      <th>3</th>\n",
       "      <td>7.381571e-07</td>\n",
       "      <td>0.003013</td>\n",
       "      <td>0.000005</td>\n",
       "      <td>0.034779</td>\n",
       "      <td>0.000017</td>\n",
       "      <td>5.518118e-07</td>\n",
       "      <td>4.505413e-07</td>\n",
       "      <td>0.767688</td>\n",
       "      <td>5.798301e-09</td>\n",
       "      <td>6.629225e-07</td>\n",
       "      <td>0.005018</td>\n",
       "      <td>0.187351</td>\n",
       "      <td>2.072317e-03</td>\n",
       "      <td>0.000054</td>\n",
       "    </tr>\n",
       "    <tr>\n",
       "      <th>4</th>\n",
       "      <td>4.101562e-09</td>\n",
       "      <td>0.000051</td>\n",
       "      <td>0.000005</td>\n",
       "      <td>0.004683</td>\n",
       "      <td>0.000052</td>\n",
       "      <td>4.083016e-09</td>\n",
       "      <td>4.370335e-08</td>\n",
       "      <td>0.000393</td>\n",
       "      <td>3.400542e-10</td>\n",
       "      <td>3.435257e-07</td>\n",
       "      <td>0.000378</td>\n",
       "      <td>0.994428</td>\n",
       "      <td>2.180858e-06</td>\n",
       "      <td>0.000006</td>\n",
       "    </tr>\n",
       "  </tbody>\n",
       "</table>\n",
       "</div>"
      ],
      "text/plain": [
       "   Back to School  Consumer Durables  Ereaders   Fashion   Fitness  \\\n",
       "0    1.094957e-06           0.000016  0.000015  0.004504  0.000054   \n",
       "1    7.345921e-08           0.000056  0.053747  0.578522  0.000774   \n",
       "2    1.000326e-08           0.000017  0.000011  0.004068  0.000030   \n",
       "3    7.381571e-07           0.003013  0.000005  0.034779  0.000017   \n",
       "4    4.101562e-09           0.000051  0.000005  0.004683  0.000052   \n",
       "\n",
       "         Gaming     Groceries  Home Decor  Kitchen cleaning Supplies  \\\n",
       "0  2.109298e-07  4.799936e-08    0.000813               1.594228e-09   \n",
       "1  1.964040e-08  2.348524e-09    0.001336               9.862851e-10   \n",
       "2  2.347310e-08  3.617209e-07    0.001132               1.701326e-09   \n",
       "3  5.518118e-07  4.505413e-07    0.767688               5.798301e-09   \n",
       "4  4.083016e-09  4.370335e-08    0.000393               3.400542e-10   \n",
       "\n",
       "        Laptops  Pet Supplies    Phones           TVs      Toys  \n",
       "0  3.676002e-07      0.000195  0.994345  3.211285e-06  0.000054  \n",
       "1  2.947302e-05      0.000016  0.365499  7.902727e-07  0.000019  \n",
       "2  1.071647e-06      0.000317  0.994399  3.131201e-06  0.000021  \n",
       "3  6.629225e-07      0.005018  0.187351  2.072317e-03  0.000054  \n",
       "4  3.435257e-07      0.000378  0.994428  2.180858e-06  0.000006  "
      ]
     },
     "execution_count": 22,
     "metadata": {},
     "output_type": "execute_result"
    }
   ],
   "source": [
    "preds.rename(columns={i:classes[i] for i in range(len(classes))},inplace=True)\n",
    "preds.head()"
   ]
  },
  {
   "cell_type": "code",
   "execution_count": 23,
   "id": "trying-interaction",
   "metadata": {
    "execution": {
     "iopub.execute_input": "2021-08-01T14:46:55.931612Z",
     "iopub.status.busy": "2021-08-01T14:46:55.930640Z",
     "iopub.status.idle": "2021-08-01T14:46:55.941468Z",
     "shell.execute_reply": "2021-08-01T14:46:55.940886Z",
     "shell.execute_reply.started": "2021-07-31T11:36:59.599811Z"
    },
    "papermill": {
     "duration": 0.059506,
     "end_time": "2021-08-01T14:46:55.941612",
     "exception": false,
     "start_time": "2021-08-01T14:46:55.882106",
     "status": "completed"
    },
    "tags": []
   },
   "outputs": [
    {
     "data": {
      "text/plain": [
       "Back to School               0.000396\n",
       "Consumer Durables            0.006254\n",
       "Ereaders                     0.039914\n",
       "Fashion                      0.096180\n",
       "Fitness                      0.037462\n",
       "Gaming                       0.000046\n",
       "Groceries                    0.000066\n",
       "Home Decor                   0.008328\n",
       "Kitchen cleaning Supplies    0.000015\n",
       "Laptops                      0.013404\n",
       "Pet Supplies                 0.035043\n",
       "Phones                       0.742248\n",
       "TVs                          0.018946\n",
       "Toys                         0.001699\n",
       "dtype: float64"
      ]
     },
     "execution_count": 23,
     "metadata": {},
     "output_type": "execute_result"
    }
   ],
   "source": [
    "# mean predictions for each class\n",
    "np.mean(preds,axis=0)"
   ]
  },
  {
   "cell_type": "code",
   "execution_count": 24,
   "id": "first-objective",
   "metadata": {
    "execution": {
     "iopub.execute_input": "2021-08-01T14:46:56.039204Z",
     "iopub.status.busy": "2021-08-01T14:46:56.038553Z",
     "iopub.status.idle": "2021-08-01T14:46:56.056425Z",
     "shell.execute_reply": "2021-08-01T14:46:56.055887Z",
     "shell.execute_reply.started": "2021-07-31T11:37:04.618921Z"
    },
    "papermill": {
     "duration": 0.068883,
     "end_time": "2021-08-01T14:46:56.056579",
     "exception": false,
     "start_time": "2021-08-01T14:46:55.987696",
     "status": "completed"
    },
    "tags": []
   },
   "outputs": [
    {
     "data": {
      "text/html": [
       "<div>\n",
       "<style scoped>\n",
       "    .dataframe tbody tr th:only-of-type {\n",
       "        vertical-align: middle;\n",
       "    }\n",
       "\n",
       "    .dataframe tbody tr th {\n",
       "        vertical-align: top;\n",
       "    }\n",
       "\n",
       "    .dataframe thead th {\n",
       "        text-align: right;\n",
       "    }\n",
       "</style>\n",
       "<table border=\"1\" class=\"dataframe\">\n",
       "  <thead>\n",
       "    <tr style=\"text-align: right;\">\n",
       "      <th></th>\n",
       "      <th>predicted_ratio</th>\n",
       "      <th>actual_ratio</th>\n",
       "    </tr>\n",
       "  </thead>\n",
       "  <tbody>\n",
       "    <tr>\n",
       "      <th>0</th>\n",
       "      <td>0.001282</td>\n",
       "      <td>0.001435</td>\n",
       "    </tr>\n",
       "    <tr>\n",
       "      <th>1</th>\n",
       "      <td>0.013918</td>\n",
       "      <td>0.014043</td>\n",
       "    </tr>\n",
       "    <tr>\n",
       "      <th>2</th>\n",
       "      <td>0.067282</td>\n",
       "      <td>0.066969</td>\n",
       "    </tr>\n",
       "    <tr>\n",
       "      <th>3</th>\n",
       "      <td>0.166565</td>\n",
       "      <td>0.165723</td>\n",
       "    </tr>\n",
       "    <tr>\n",
       "      <th>4</th>\n",
       "      <td>0.066052</td>\n",
       "      <td>0.065987</td>\n",
       "    </tr>\n",
       "    <tr>\n",
       "      <th>5</th>\n",
       "      <td>0.000681</td>\n",
       "      <td>0.000755</td>\n",
       "    </tr>\n",
       "    <tr>\n",
       "      <th>6</th>\n",
       "      <td>0.000554</td>\n",
       "      <td>0.000604</td>\n",
       "    </tr>\n",
       "    <tr>\n",
       "      <th>7</th>\n",
       "      <td>0.017701</td>\n",
       "      <td>0.017969</td>\n",
       "    </tr>\n",
       "    <tr>\n",
       "      <th>8</th>\n",
       "      <td>0.000136</td>\n",
       "      <td>0.000151</td>\n",
       "    </tr>\n",
       "    <tr>\n",
       "      <th>9</th>\n",
       "      <td>0.023264</td>\n",
       "      <td>0.023254</td>\n",
       "    </tr>\n",
       "    <tr>\n",
       "      <th>10</th>\n",
       "      <td>0.068628</td>\n",
       "      <td>0.068705</td>\n",
       "    </tr>\n",
       "    <tr>\n",
       "      <th>11</th>\n",
       "      <td>0.537522</td>\n",
       "      <td>0.537863</td>\n",
       "    </tr>\n",
       "    <tr>\n",
       "      <th>12</th>\n",
       "      <td>0.032433</td>\n",
       "      <td>0.032163</td>\n",
       "    </tr>\n",
       "    <tr>\n",
       "      <th>13</th>\n",
       "      <td>0.003981</td>\n",
       "      <td>0.004379</td>\n",
       "    </tr>\n",
       "  </tbody>\n",
       "</table>\n",
       "</div>"
      ],
      "text/plain": [
       "    predicted_ratio  actual_ratio\n",
       "0          0.001282      0.001435\n",
       "1          0.013918      0.014043\n",
       "2          0.067282      0.066969\n",
       "3          0.166565      0.165723\n",
       "4          0.066052      0.065987\n",
       "5          0.000681      0.000755\n",
       "6          0.000554      0.000604\n",
       "7          0.017701      0.017969\n",
       "8          0.000136      0.000151\n",
       "9          0.023264      0.023254\n",
       "10         0.068628      0.068705\n",
       "11         0.537522      0.537863\n",
       "12         0.032433      0.032163\n",
       "13         0.003981      0.004379"
      ]
     },
     "execution_count": 24,
     "metadata": {},
     "output_type": "execute_result"
    }
   ],
   "source": [
    "# mean predictions for each class(training_data)\n",
    "pd.DataFrame({'predicted_ratio':np.mean(train_preds,axis=0),\n",
    "              'actual_ratio': y.value_counts(1)})"
   ]
  },
  {
   "cell_type": "markdown",
   "id": "compatible-argument",
   "metadata": {
    "papermill": {
     "duration": 0.046654,
     "end_time": "2021-08-01T14:46:56.151104",
     "exception": false,
     "start_time": "2021-08-01T14:46:56.104450",
     "status": "completed"
    },
    "tags": []
   },
   "source": [
    "**Predicting Top Three categories based on predicted Probablities**"
   ]
  },
  {
   "cell_type": "code",
   "execution_count": 25,
   "id": "important-queens",
   "metadata": {
    "execution": {
     "iopub.execute_input": "2021-08-01T14:46:56.251111Z",
     "iopub.status.busy": "2021-08-01T14:46:56.250444Z",
     "iopub.status.idle": "2021-08-01T14:46:56.253567Z",
     "shell.execute_reply": "2021-08-01T14:46:56.253062Z",
     "shell.execute_reply.started": "2021-07-31T11:37:15.959979Z"
    },
    "papermill": {
     "duration": 0.054957,
     "end_time": "2021-08-01T14:46:56.253706",
     "exception": false,
     "start_time": "2021-08-01T14:46:56.198749",
     "status": "completed"
    },
    "tags": []
   },
   "outputs": [],
   "source": [
    "def get_top_cat(row,classes):\n",
    "    '''get the top 3 predicted categories'''\n",
    "    prob,top_3 = zip(*sorted(zip(row.values,classes),reverse=True)[:3])\n",
    "    top_3=', '.join(top_3)\n",
    "    \n",
    "    return top_3\n"
   ]
  },
  {
   "cell_type": "code",
   "execution_count": 26,
   "id": "egyptian-purse",
   "metadata": {
    "execution": {
     "iopub.execute_input": "2021-08-01T14:46:56.354068Z",
     "iopub.status.busy": "2021-08-01T14:46:56.353202Z",
     "iopub.status.idle": "2021-08-01T14:46:56.357943Z",
     "shell.execute_reply": "2021-08-01T14:46:56.357410Z",
     "shell.execute_reply.started": "2021-07-31T11:37:19.33912Z"
    },
    "papermill": {
     "duration": 0.057363,
     "end_time": "2021-08-01T14:46:56.358120",
     "exception": false,
     "start_time": "2021-08-01T14:46:56.300757",
     "status": "completed"
    },
    "tags": []
   },
   "outputs": [
    {
     "data": {
      "text/plain": [
       "'Phones, Fashion, Home Decor'"
      ]
     },
     "execution_count": 26,
     "metadata": {},
     "output_type": "execute_result"
    }
   ],
   "source": [
    "get_top_cat(preds.iloc[0],classes)"
   ]
  },
  {
   "cell_type": "code",
   "execution_count": 27,
   "id": "activated-delay",
   "metadata": {
    "execution": {
     "iopub.execute_input": "2021-08-01T14:46:56.458759Z",
     "iopub.status.busy": "2021-08-01T14:46:56.457769Z",
     "iopub.status.idle": "2021-08-01T14:46:56.462100Z",
     "shell.execute_reply": "2021-08-01T14:46:56.461441Z",
     "shell.execute_reply.started": "2021-07-31T11:37:20.528948Z"
    },
    "papermill": {
     "duration": 0.057098,
     "end_time": "2021-08-01T14:46:56.462255",
     "exception": false,
     "start_time": "2021-08-01T14:46:56.405157",
     "status": "completed"
    },
    "tags": []
   },
   "outputs": [
    {
     "data": {
      "text/plain": [
       "'Phones, Fashion, Pet Supplies'"
      ]
     },
     "execution_count": 27,
     "metadata": {},
     "output_type": "execute_result"
    }
   ],
   "source": [
    "get_top_cat(preds.iloc[180],classes)"
   ]
  },
  {
   "cell_type": "code",
   "execution_count": 28,
   "id": "pleasant-frederick",
   "metadata": {
    "execution": {
     "iopub.execute_input": "2021-08-01T14:46:56.567178Z",
     "iopub.status.busy": "2021-08-01T14:46:56.566369Z",
     "iopub.status.idle": "2021-08-01T14:46:56.571028Z",
     "shell.execute_reply": "2021-08-01T14:46:56.570506Z",
     "shell.execute_reply.started": "2021-07-31T11:37:23.718971Z"
    },
    "papermill": {
     "duration": 0.060833,
     "end_time": "2021-08-01T14:46:56.571172",
     "exception": false,
     "start_time": "2021-08-01T14:46:56.510339",
     "status": "completed"
    },
    "tags": []
   },
   "outputs": [],
   "source": [
    "df_preds=pd.DataFrame()\n",
    "df_preds['user_id']=test_user_ids\n",
    "df_preds['pred3']=0"
   ]
  },
  {
   "cell_type": "code",
   "execution_count": 29,
   "id": "stunning-carry",
   "metadata": {
    "execution": {
     "iopub.execute_input": "2021-08-01T14:46:56.672809Z",
     "iopub.status.busy": "2021-08-01T14:46:56.671806Z",
     "iopub.status.idle": "2021-08-01T14:47:12.429711Z",
     "shell.execute_reply": "2021-08-01T14:47:12.428441Z",
     "shell.execute_reply.started": "2021-07-31T11:37:23.913757Z"
    },
    "papermill": {
     "duration": 15.811508,
     "end_time": "2021-08-01T14:47:12.429895",
     "exception": false,
     "start_time": "2021-08-01T14:46:56.618387",
     "status": "completed"
    },
    "tags": []
   },
   "outputs": [],
   "source": [
    "for i in range(len(preds)):\n",
    "    df_preds.loc[i,'pred3']=get_top_cat(row=preds.iloc[i,:],classes=classes)"
   ]
  },
  {
   "cell_type": "code",
   "execution_count": 30,
   "id": "horizontal-aviation",
   "metadata": {
    "execution": {
     "iopub.execute_input": "2021-08-01T14:47:12.535532Z",
     "iopub.status.busy": "2021-08-01T14:47:12.534322Z",
     "iopub.status.idle": "2021-08-01T14:47:12.538121Z",
     "shell.execute_reply": "2021-08-01T14:47:12.538619Z",
     "shell.execute_reply.started": "2021-07-31T11:37:39.598083Z"
    },
    "papermill": {
     "duration": 0.061505,
     "end_time": "2021-08-01T14:47:12.538794",
     "exception": false,
     "start_time": "2021-08-01T14:47:12.477289",
     "status": "completed"
    },
    "tags": []
   },
   "outputs": [
    {
     "data": {
      "text/html": [
       "<div>\n",
       "<style scoped>\n",
       "    .dataframe tbody tr th:only-of-type {\n",
       "        vertical-align: middle;\n",
       "    }\n",
       "\n",
       "    .dataframe tbody tr th {\n",
       "        vertical-align: top;\n",
       "    }\n",
       "\n",
       "    .dataframe thead th {\n",
       "        text-align: right;\n",
       "    }\n",
       "</style>\n",
       "<table border=\"1\" class=\"dataframe\">\n",
       "  <thead>\n",
       "    <tr style=\"text-align: right;\">\n",
       "      <th></th>\n",
       "      <th>user_id</th>\n",
       "      <th>pred3</th>\n",
       "    </tr>\n",
       "  </thead>\n",
       "  <tbody>\n",
       "    <tr>\n",
       "      <th>0</th>\n",
       "      <td>43323.0</td>\n",
       "      <td>Phones, Fashion, Home Decor</td>\n",
       "    </tr>\n",
       "    <tr>\n",
       "      <th>1</th>\n",
       "      <td>4269.0</td>\n",
       "      <td>Fashion, Phones, Ereaders</td>\n",
       "    </tr>\n",
       "    <tr>\n",
       "      <th>2</th>\n",
       "      <td>21731.0</td>\n",
       "      <td>Phones, Fashion, Home Decor</td>\n",
       "    </tr>\n",
       "    <tr>\n",
       "      <th>3</th>\n",
       "      <td>14422.0</td>\n",
       "      <td>Home Decor, Phones, Fashion</td>\n",
       "    </tr>\n",
       "    <tr>\n",
       "      <th>4</th>\n",
       "      <td>12862.0</td>\n",
       "      <td>Phones, Fashion, Home Decor</td>\n",
       "    </tr>\n",
       "  </tbody>\n",
       "</table>\n",
       "</div>"
      ],
      "text/plain": [
       "   user_id                        pred3\n",
       "0  43323.0  Phones, Fashion, Home Decor\n",
       "1   4269.0    Fashion, Phones, Ereaders\n",
       "2  21731.0  Phones, Fashion, Home Decor\n",
       "3  14422.0  Home Decor, Phones, Fashion\n",
       "4  12862.0  Phones, Fashion, Home Decor"
      ]
     },
     "execution_count": 30,
     "metadata": {},
     "output_type": "execute_result"
    }
   ],
   "source": [
    "df_preds.head()"
   ]
  },
  {
   "cell_type": "code",
   "execution_count": 31,
   "id": "taken-labor",
   "metadata": {
    "execution": {
     "iopub.execute_input": "2021-08-01T14:47:12.639793Z",
     "iopub.status.busy": "2021-08-01T14:47:12.639119Z",
     "iopub.status.idle": "2021-08-01T14:47:12.720111Z",
     "shell.execute_reply": "2021-08-01T14:47:12.719399Z",
     "shell.execute_reply.started": "2021-07-31T11:37:48.219373Z"
    },
    "papermill": {
     "duration": 0.13368,
     "end_time": "2021-08-01T14:47:12.720271",
     "exception": false,
     "start_time": "2021-08-01T14:47:12.586591",
     "status": "completed"
    },
    "tags": []
   },
   "outputs": [],
   "source": [
    "df_preds.to_csv('submission.csv',index=False)"
   ]
  },
  {
   "cell_type": "code",
   "execution_count": 32,
   "id": "southeast-adoption",
   "metadata": {
    "execution": {
     "iopub.execute_input": "2021-08-01T14:47:12.820776Z",
     "iopub.status.busy": "2021-08-01T14:47:12.820106Z",
     "iopub.status.idle": "2021-08-01T14:47:12.823418Z",
     "shell.execute_reply": "2021-08-01T14:47:12.822840Z"
    },
    "papermill": {
     "duration": 0.055452,
     "end_time": "2021-08-01T14:47:12.823564",
     "exception": false,
     "start_time": "2021-08-01T14:47:12.768112",
     "status": "completed"
    },
    "tags": []
   },
   "outputs": [],
   "source": [
    "\n",
    "# def mean_relevance_rank(top_category,predicted_categories):\n",
    "#     '''get a mean relevance rank for a given prediction.'''\n",
    "#     mrr=float(1/(1+i) for i in range(len(predicted_categories.split(','))) \\\n",
    "#         if predicted_categories.split(',')[i]==top_category else 0)\n",
    "    \n",
    "#     return mrr\n",
    "\n",
    "# def precision_rank(top_category,predicted_categories):\n",
    "#     '''return a precision rank for given prediction'''\n",
    "#     pr=1 if top_catgory in predicted_categories else 0\n",
    "    \n",
    "#     return pr\n"
   ]
  }
 ],
 "metadata": {
  "kernelspec": {
   "display_name": "Python 3",
   "language": "python",
   "name": "python3"
  },
  "language_info": {
   "codemirror_mode": {
    "name": "ipython",
    "version": 3
   },
   "file_extension": ".py",
   "mimetype": "text/x-python",
   "name": "python",
   "nbconvert_exporter": "python",
   "pygments_lexer": "ipython3",
   "version": "3.7.10"
  },
  "papermill": {
   "default_parameters": {},
   "duration": 10533.840996,
   "end_time": "2021-08-01T14:47:14.426721",
   "environment_variables": {},
   "exception": null,
   "input_path": "__notebook__.ipynb",
   "output_path": "__notebook__.ipynb",
   "parameters": {},
   "start_time": "2021-08-01T11:51:40.585725",
   "version": "2.3.3"
  }
 },
 "nbformat": 4,
 "nbformat_minor": 5
}
