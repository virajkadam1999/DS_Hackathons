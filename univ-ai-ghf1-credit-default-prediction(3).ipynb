{
 "cells": [
  {
   "cell_type": "markdown",
   "id": "2c45c222",
   "metadata": {
    "papermill": {
     "duration": 0.051775,
     "end_time": "2021-08-15T02:43:18.120767",
     "exception": false,
     "start_time": "2021-08-15T02:43:18.068992",
     "status": "completed"
    },
    "tags": []
   },
   "source": [
    "# Problem Statement : Predict Customer Credit Risk Flag ."
   ]
  },
  {
   "cell_type": "markdown",
   "id": "fca1c390",
   "metadata": {
    "papermill": {
     "duration": 0.05099,
     "end_time": "2021-08-15T02:43:18.222027",
     "exception": false,
     "start_time": "2021-08-15T02:43:18.171037",
     "status": "completed"
    },
    "tags": []
   },
   "source": [
    "# Imports"
   ]
  },
  {
   "cell_type": "code",
   "execution_count": 1,
   "id": "8b7059b9",
   "metadata": {
    "execution": {
     "iopub.execute_input": "2021-08-15T02:43:18.327575Z",
     "iopub.status.busy": "2021-08-15T02:43:18.326434Z",
     "iopub.status.idle": "2021-08-15T02:43:20.912812Z",
     "shell.execute_reply": "2021-08-15T02:43:20.911984Z",
     "shell.execute_reply.started": "2021-08-15T02:33:13.488741Z"
    },
    "papermill": {
     "duration": 2.641442,
     "end_time": "2021-08-15T02:43:20.913017",
     "exception": false,
     "start_time": "2021-08-15T02:43:18.271575",
     "status": "completed"
    },
    "tags": []
   },
   "outputs": [],
   "source": [
    "#general\n",
    "import os\n",
    "import numpy as np\n",
    "import gc\n",
    "import sys\n",
    "import pandas as pd\n",
    "import time\n",
    "\n",
    "\n",
    "#preprocessing\n",
    "from category_encoders import CatBoostEncoder\n",
    "from sklearn.preprocessing import OneHotEncoder as ohe\n",
    "from sklearn.model_selection import StratifiedKFold,train_test_split\n",
    "from sklearn.preprocessing import StandardScaler as Scaler\n",
    "\n",
    "#feature selection:\n",
    "from sklearn.feature_selection import mutual_info_classif as mic\n",
    "\n",
    "#Minority Oversampling\n",
    "from imblearn.over_sampling import SMOTE\n",
    "\n",
    "\n",
    "#modelling\n",
    "#metrics\n",
    "from sklearn.metrics import roc_auc_score as auc\n",
    "from catboost import CatBoostClassifier as cb\n",
    "\n",
    "#hyperparam optimization\n",
    "import optuna\n",
    "from optuna import Trial\n",
    "\n",
    "#thresholding\n",
    "from sklearn.metrics import roc_curve\n",
    "from sklearn.metrics import precision_recall_curve\n",
    "from sklearn.metrics import confusion_matrix\n",
    "\n",
    "import warnings \n",
    "warnings.filterwarnings('ignore')"
   ]
  },
  {
   "cell_type": "markdown",
   "id": "cc5fb123",
   "metadata": {
    "papermill": {
     "duration": 0.048328,
     "end_time": "2021-08-15T02:43:21.012232",
     "exception": false,
     "start_time": "2021-08-15T02:43:20.963904",
     "status": "completed"
    },
    "tags": []
   },
   "source": [
    "# Loading data"
   ]
  },
  {
   "cell_type": "code",
   "execution_count": 2,
   "id": "9d2b8f38",
   "metadata": {
    "execution": {
     "iopub.execute_input": "2021-08-15T02:43:21.117087Z",
     "iopub.status.busy": "2021-08-15T02:43:21.116413Z",
     "iopub.status.idle": "2021-08-15T02:43:21.984528Z",
     "shell.execute_reply": "2021-08-15T02:43:21.983777Z",
     "shell.execute_reply.started": "2021-08-15T02:33:13.501115Z"
    },
    "papermill": {
     "duration": 0.923502,
     "end_time": "2021-08-15T02:43:21.984703",
     "exception": false,
     "start_time": "2021-08-15T02:43:21.061201",
     "status": "completed"
    },
    "tags": []
   },
   "outputs": [],
   "source": [
    "train=pd.read_csv('../input/ghf1-hackathon/Training Data.csv')\n",
    "test=pd.read_csv('../input/ghf1-hackathon/Test Data.csv')\n",
    "sample_sub=pd.read_csv('../input/ghf1-hackathon/Sample Prediction Dataset.csv')"
   ]
  },
  {
   "cell_type": "markdown",
   "id": "4de9fe82",
   "metadata": {
    "papermill": {
     "duration": 0.049754,
     "end_time": "2021-08-15T02:43:22.085497",
     "exception": false,
     "start_time": "2021-08-15T02:43:22.035743",
     "status": "completed"
    },
    "tags": []
   },
   "source": [
    "# Preprocessing"
   ]
  },
  {
   "cell_type": "code",
   "execution_count": 3,
   "id": "566e7cae",
   "metadata": {
    "execution": {
     "iopub.execute_input": "2021-08-15T02:43:22.200631Z",
     "iopub.status.busy": "2021-08-15T02:43:22.197939Z",
     "iopub.status.idle": "2021-08-15T02:43:22.222262Z",
     "shell.execute_reply": "2021-08-15T02:43:22.221631Z",
     "shell.execute_reply.started": "2021-08-15T02:33:14.151718Z"
    },
    "papermill": {
     "duration": 0.085822,
     "end_time": "2021-08-15T02:43:22.222430",
     "exception": false,
     "start_time": "2021-08-15T02:43:22.136608",
     "status": "completed"
    },
    "tags": []
   },
   "outputs": [],
   "source": [
    "train.reset_index(inplace=True,drop=True)\n",
    "test.reset_index(inplace=True,drop=True)\n",
    "\n",
    "y=train.pop('risk_flag')\n",
    "\n",
    "train_ids=train.pop('Id')\n",
    "test_ids=test.pop('id')"
   ]
  },
  {
   "cell_type": "markdown",
   "id": "d1324bd0",
   "metadata": {
    "papermill": {
     "duration": 0.05032,
     "end_time": "2021-08-15T02:43:22.322845",
     "exception": false,
     "start_time": "2021-08-15T02:43:22.272525",
     "status": "completed"
    },
    "tags": []
   },
   "source": [
    "**Mapping Categorical Features to relevant Values**"
   ]
  },
  {
   "cell_type": "code",
   "execution_count": 4,
   "id": "c912dc2c",
   "metadata": {
    "execution": {
     "iopub.execute_input": "2021-08-15T02:43:22.460653Z",
     "iopub.status.busy": "2021-08-15T02:43:22.459263Z",
     "iopub.status.idle": "2021-08-15T02:43:22.994147Z",
     "shell.execute_reply": "2021-08-15T02:43:22.993529Z",
     "shell.execute_reply.started": "2021-08-15T02:33:14.166877Z"
    },
    "papermill": {
     "duration": 0.62048,
     "end_time": "2021-08-15T02:43:22.994323",
     "exception": false,
     "start_time": "2021-08-15T02:43:22.373843",
     "status": "completed"
    },
    "tags": []
   },
   "outputs": [],
   "source": [
    "def mapping_features(train,test):\n",
    "    car_ownership={'yes':1,\n",
    "                    'no':0}\n",
    "    \n",
    "    married={'single':0,\n",
    "             'married':1}\n",
    "    \n",
    "    house_own={'rented':1,\n",
    "             'norent_noown':0,\n",
    "             'owned':2}\n",
    "\n",
    "    \n",
    "    train['car_ownership'].replace(car_ownership,\n",
    "                               inplace=True)\n",
    "    test['car_ownership'].replace(car_ownership,\n",
    "                               inplace=True)\n",
    "\n",
    "    train['married'].replace(married,\n",
    "                         inplace=True)\n",
    "    test['married'].replace(married,\n",
    "                         inplace=True)\n",
    "\n",
    "    \n",
    "    \n",
    "    train['house_ownership'].replace(house_own,\n",
    "                                 inplace=True)\n",
    "    test['house_ownership'].replace(house_own,\n",
    "                                 inplace=True)\n",
    "    \n",
    "    \n",
    "    return train,test\n",
    "\n",
    "\n",
    "\n",
    "train,test=mapping_features(train,\n",
    "                            test)"
   ]
  },
  {
   "cell_type": "markdown",
   "id": "e9749f0a",
   "metadata": {
    "papermill": {
     "duration": 0.050552,
     "end_time": "2021-08-15T02:43:23.094765",
     "exception": false,
     "start_time": "2021-08-15T02:43:23.044213",
     "status": "completed"
    },
    "tags": []
   },
   "source": [
    "**Convert Location Address to Coordinates**"
   ]
  },
  {
   "cell_type": "code",
   "execution_count": 5,
   "id": "58ad4da0",
   "metadata": {
    "execution": {
     "iopub.execute_input": "2021-08-15T02:43:23.201894Z",
     "iopub.status.busy": "2021-08-15T02:43:23.201155Z",
     "iopub.status.idle": "2021-08-15T02:43:24.753692Z",
     "shell.execute_reply": "2021-08-15T02:43:24.753023Z",
     "shell.execute_reply.started": "2021-08-15T02:33:14.191858Z"
    },
    "papermill": {
     "duration": 1.60893,
     "end_time": "2021-08-15T02:43:24.753852",
     "exception": false,
     "start_time": "2021-08-15T02:43:23.144922",
     "status": "completed"
    },
    "tags": []
   },
   "outputs": [
    {
     "data": {
      "text/plain": [
       "Location(Fergussson College, Dhondiba Gunaji Bane Path, Model Colony, Pune City, Pune District, Maharashtra, 411004, India, (18.524148500000003, 73.8385914880175, 0.0))"
      ]
     },
     "execution_count": 5,
     "metadata": {},
     "output_type": "execute_result"
    }
   ],
   "source": [
    "from geopy.geocoders import Nominatim\n",
    "geocoder= Nominatim(user_agent=\"myGeocoder\")\n",
    "\n",
    "\n",
    "def get_coordinates(address,geocoder=geocoder):\n",
    "    \n",
    "    loc=geocoder.geocode(address)\n",
    "    \n",
    "    \n",
    "    #added sleep because API allows only one call per sec\n",
    "    time.sleep(1)\n",
    "    return loc\n",
    "\n",
    "get_coordinates('Fergusson college')"
   ]
  },
  {
   "cell_type": "code",
   "execution_count": 6,
   "id": "2dc29022",
   "metadata": {
    "execution": {
     "iopub.execute_input": "2021-08-15T02:43:24.868290Z",
     "iopub.status.busy": "2021-08-15T02:43:24.866570Z",
     "iopub.status.idle": "2021-08-15T02:43:24.872135Z",
     "shell.execute_reply": "2021-08-15T02:43:24.871481Z",
     "shell.execute_reply.started": "2021-08-15T02:33:15.526891Z"
    },
    "papermill": {
     "duration": 0.066541,
     "end_time": "2021-08-15T02:43:24.872302",
     "exception": false,
     "start_time": "2021-08-15T02:43:24.805761",
     "status": "completed"
    },
    "tags": []
   },
   "outputs": [],
   "source": [
    "def city_features(row):\n",
    "    '''Mark capital cities and cities of economic Importance'''\n",
    "    \n",
    "    row['city']=row['city'].split('[')[0]\n",
    "    row['state']=row['state'].lower()\n",
    "    \n",
    "    \n",
    "    # adding features based on location:\n",
    "    \n",
    "    of_economic_imp=['Chennai','Kalyan-Dombivli','Hyderabad','Malegaon','Mumbai',\n",
    "                     'Delhi_city','Bangalore','New_Delhi','Mira-Bhayandar','Navi_Mumbai'\n",
    "                    'Vasai-Virar','Kolkata','Mangalore','Jabalpur','Thane','Pune',\n",
    "                    'Ambarnath','Panvel','Secunderabad','Noida','Visakhapatnam',\n",
    "                    'Jamshedpur','Pimpri-Chinchwad','Ahmedabad','Surat','Jaipur',\n",
    "                    'Nagpur','Indore','Patna']\n",
    "    \n",
    "    capital_cities=['Bhopal','Pondicherry','Chennai','Shimla','Hyderabad','Aizawl',\n",
    "                    'Mumbai','Kochi','Srinagar','Patna','Delhi_city',\n",
    "                    'Chandigarh_city','Jammu','Lucknow','Bangalore','New_Delhi',\n",
    "                   'Imphal','Kolkata','Gangtok','Dehradun','Aizawl','Raipur',\n",
    "                   'Ranchi','Thiruvananthapuram','Gandhinagar','Shillong','Kohima',\n",
    "                   'Itanagar','Dispur','Panaji','Jaipur','Agartala']\n",
    "    \n",
    "    \n",
    "    row['capital']=int(str(row['city']) in capital_cities)\n",
    "    row['econ_imp']=int(str(row['city']) in of_economic_imp)\n",
    "    \n",
    "    return row\n",
    "    "
   ]
  },
  {
   "cell_type": "code",
   "execution_count": 7,
   "id": "adafb762",
   "metadata": {
    "execution": {
     "iopub.execute_input": "2021-08-15T02:43:24.981758Z",
     "iopub.status.busy": "2021-08-15T02:43:24.981052Z",
     "iopub.status.idle": "2021-08-15T02:43:24.984811Z",
     "shell.execute_reply": "2021-08-15T02:43:24.984123Z",
     "shell.execute_reply.started": "2021-08-15T02:33:15.540514Z"
    },
    "papermill": {
     "duration": 0.062165,
     "end_time": "2021-08-15T02:43:24.984993",
     "exception": false,
     "start_time": "2021-08-15T02:43:24.922828",
     "status": "completed"
    },
    "tags": []
   },
   "outputs": [],
   "source": [
    "def location_data(train,test,y):\n",
    "    '''Features from Location Data'''\n",
    "    \n",
    "    \n",
    "    #city features\n",
    "    train=train.apply(lambda x: city_features(x),axis=1)\n",
    "    test=test.apply(lambda x: city_features(x),axis=1)\n",
    "    \n",
    "    \n",
    "#     # location\n",
    "    train['location']=train.city +','+ train.state\n",
    "    test['location']=test.city + ','+ train.state\n",
    "    \n",
    "    train.drop(['state','city'],axis=1,inplace=True)\n",
    "    test.drop(['state','city'],axis=1,inplace=True)\n",
    "    \n",
    "    enc=CatBoostEncoder(cols=['location'])\n",
    "    \n",
    "    enc.fit(train,y)\n",
    "    \n",
    "    train=enc.transform(train)\n",
    "    test=enc.transform(test)\n",
    "   \n",
    "    return train,test\n",
    "    \n",
    "    "
   ]
  },
  {
   "cell_type": "code",
   "execution_count": 8,
   "id": "5d5d716e",
   "metadata": {
    "execution": {
     "iopub.execute_input": "2021-08-15T02:43:25.092745Z",
     "iopub.status.busy": "2021-08-15T02:43:25.091792Z",
     "iopub.status.idle": "2021-08-15T02:51:14.048750Z",
     "shell.execute_reply": "2021-08-15T02:51:14.049298Z",
     "shell.execute_reply.started": "2021-08-15T02:33:15.562067Z"
    },
    "papermill": {
     "duration": 469.01415,
     "end_time": "2021-08-15T02:51:14.049511",
     "exception": false,
     "start_time": "2021-08-15T02:43:25.035361",
     "status": "completed"
    },
    "tags": []
   },
   "outputs": [
    {
     "name": "stdout",
     "output_type": "stream",
     "text": [
      "CPU times: user 7min 46s, sys: 1.99 s, total: 7min 48s\n",
      "Wall time: 7min 48s\n"
     ]
    }
   ],
   "source": [
    "%%time\n",
    "train,test=location_data(train,test,y)"
   ]
  },
  {
   "cell_type": "markdown",
   "id": "45d62f88",
   "metadata": {
    "papermill": {
     "duration": 0.050971,
     "end_time": "2021-08-15T02:51:14.150793",
     "exception": false,
     "start_time": "2021-08-15T02:51:14.099822",
     "status": "completed"
    },
    "tags": []
   },
   "source": [
    "**NOTE: The P in  'P(feature)' denote possibly, as I am using crude hueristics to make these features**"
   ]
  },
  {
   "cell_type": "code",
   "execution_count": 9,
   "id": "24a9e5d6",
   "metadata": {
    "execution": {
     "iopub.execute_input": "2021-08-15T02:51:14.272561Z",
     "iopub.status.busy": "2021-08-15T02:51:14.261117Z",
     "iopub.status.idle": "2021-08-15T02:51:14.276033Z",
     "shell.execute_reply": "2021-08-15T02:51:14.275348Z",
     "shell.execute_reply.started": "2021-08-15T02:33:18.987018Z"
    },
    "papermill": {
     "duration": 0.074781,
     "end_time": "2021-08-15T02:51:14.276187",
     "exception": false,
     "start_time": "2021-08-15T02:51:14.201406",
     "status": "completed"
    },
    "tags": []
   },
   "outputs": [],
   "source": [
    "def ratio_features(row):\n",
    "    '''features created out of ratios of given features'''\n",
    "    \n",
    "    #income to experience ratio\n",
    "    if row['experience']!=0:\n",
    "        row['income_exp_ratio']=row['income']/row['experience']\n",
    "        row['age_exp_ratio']=row['age']/row['experience']\n",
    "        \n",
    "    else:\n",
    "        row['income_exp_ratio']=row['income']/2\n",
    "        row['age_exp_ratio']=row['age']/2\n",
    "    \n",
    "    #income to current job years ratio\n",
    "    if row['current_job_years']!=0:\n",
    "        row['income_joby_ratio']=row['income']/row['current_job_years']\n",
    "        row['age_curjob_ratio']=row['age']/row['current_job_years']\n",
    "        \n",
    "    else:\n",
    "        row['income_joby_ratio']=row['income']\n",
    "        row['age_curjob_ratio']=row['age']\n",
    "        \n",
    "    return row     \n",
    "    \n",
    "def other_work_exp(row):\n",
    "    '''Probable other work exp based on age and given experience'''\n",
    "    \n",
    "    #probable other work exp     \n",
    "    #considering 25 to be the average age of starting earning:    \n",
    "          \n",
    "    if ((row['age']>35 and row['age']<45) and row['experience']<10):\n",
    "        row['P(oth_work)']=row['age']-(25+row['experience'])\n",
    "        \n",
    "    elif ((row['age']>45 and row['age']<60) and row['experience']<15):\n",
    "        row['P(oth_work)']=row['age']-(25+row['experience'])\n",
    "    \n",
    "    elif ((row['age']>65) and row['experience']<20):\n",
    "        row['P(oth_work)']=row['age']-(25+row['experience'])\n",
    "        \n",
    "    elif ((row['age']>30 and row['age']<35)and row['experience']<4):\n",
    "        row['P(oth_work)']=max(row['age']-(25+row['experience']),2)\n",
    "        \n",
    "    else:\n",
    "        # about 2 years of workexp is req for loans\n",
    "        row['P(oth_work)']=2        \n",
    "\n",
    "    return row\n",
    "\n",
    "def emi_features(row):\n",
    "    \n",
    "    '''guess around if a person pays emi'''\n",
    "    # considering 15 years to be average repayment tenure and \n",
    "    # assuming person is paying for the house he owns.\n",
    "    row['P(pays_house_emi)'] = int((row['house_ownership']==2) and (row['current_house_years']<=15))\n",
    "    \n",
    "    #considering people above 50 probably would not buy car with a EMI,\n",
    "    #also assuming people without family wont buy a car on EMI\n",
    "    row['P(pays_car_emi)']  = int((row['car_ownership']==1) and \\\n",
    "                                  (row['age']<55) and \\\n",
    "                                  (row['married']==1))\n",
    "    return row\n",
    "    \n",
    "    \n",
    "def create_features(df1):\n",
    "    \n",
    "    '''create some features from existing features'''\n",
    "    \n",
    "    \n",
    "    df=df1.copy(deep=True)  \n",
    "    \n",
    "    #ratio features\n",
    "    df=df.apply(lambda x:ratio_features(x),axis=1)\n",
    "    \n",
    "    #age income ratio\n",
    "    df['income_age_ratio']=df['income']/df['age']\n",
    "\n",
    "    #documented other exp\n",
    "    df['other_exp']=df['experience']-df['current_job_years']\n",
    "    \n",
    "    #probable other exp based on age\n",
    "    df=df.apply(lambda x: other_work_exp(x),axis=1)\n",
    "    \n",
    "    #probable total exp:\n",
    "    df['P(total_exp)']=df['experience']+df['P(oth_work)']\n",
    "    \n",
    "    # in working age(18-65)\n",
    "    df['working_age']=df['age'].apply(lambda x : int((x>18) and (x<65)))\n",
    "    \n",
    "    #income to probable total exp:\n",
    "    df['P(income/total_exp)']=df['income'] /df['P(total_exp)']\n",
    "    \n",
    "    #pays house rent\n",
    "    df['pays_rent']=df['house_ownership'].apply(lambda x: int(x==1))\n",
    "    \n",
    "    #Possibly pays EMIs\n",
    "    df=df.apply(lambda x: emi_features(x),axis=1)\n",
    "    \n",
    "    return df\n",
    "    "
   ]
  },
  {
   "cell_type": "code",
   "execution_count": 10,
   "id": "9b4e3035",
   "metadata": {
    "execution": {
     "iopub.execute_input": "2021-08-15T02:51:14.382765Z",
     "iopub.status.busy": "2021-08-15T02:51:14.382145Z",
     "iopub.status.idle": "2021-08-15T03:17:38.920477Z",
     "shell.execute_reply": "2021-08-15T03:17:38.921062Z",
     "shell.execute_reply.started": "2021-08-15T02:33:19.010792Z"
    },
    "papermill": {
     "duration": 1584.594618,
     "end_time": "2021-08-15T03:17:38.921429",
     "exception": false,
     "start_time": "2021-08-15T02:51:14.326811",
     "status": "completed"
    },
    "tags": []
   },
   "outputs": [
    {
     "name": "stdout",
     "output_type": "stream",
     "text": [
      "CPU times: user 26min 20s, sys: 3.85 s, total: 26min 24s\n",
      "Wall time: 26min 24s\n"
     ]
    }
   ],
   "source": [
    "%%time\n",
    "X=create_features(train)\n",
    "X_test=create_features(test)"
   ]
  },
  {
   "cell_type": "code",
   "execution_count": 11,
   "id": "403f0b35",
   "metadata": {
    "execution": {
     "iopub.execute_input": "2021-08-15T03:17:39.037365Z",
     "iopub.status.busy": "2021-08-15T03:17:39.031845Z",
     "iopub.status.idle": "2021-08-15T03:17:39.051738Z",
     "shell.execute_reply": "2021-08-15T03:17:39.052264Z",
     "shell.execute_reply.started": "2021-08-15T02:33:30.507401Z"
    },
    "papermill": {
     "duration": 0.079532,
     "end_time": "2021-08-15T03:17:39.052484",
     "exception": false,
     "start_time": "2021-08-15T03:17:38.972952",
     "status": "completed"
    },
    "tags": []
   },
   "outputs": [],
   "source": [
    "#there are ' ' in the test profession against the '_' in train profession\n",
    "\n",
    "X_test['profession']=X_test['profession'].apply(lambda x: str(x).replace(' ','_'))"
   ]
  },
  {
   "cell_type": "markdown",
   "id": "4b7a21e7",
   "metadata": {
    "papermill": {
     "duration": 0.053145,
     "end_time": "2021-08-15T03:17:39.158280",
     "exception": false,
     "start_time": "2021-08-15T03:17:39.105135",
     "status": "completed"
    },
    "tags": []
   },
   "source": [
    "**Checking Feature Importances**"
   ]
  },
  {
   "cell_type": "code",
   "execution_count": 12,
   "id": "86a56920",
   "metadata": {
    "execution": {
     "iopub.execute_input": "2021-08-15T03:17:39.270688Z",
     "iopub.status.busy": "2021-08-15T03:17:39.270038Z",
     "iopub.status.idle": "2021-08-15T03:17:39.273062Z",
     "shell.execute_reply": "2021-08-15T03:17:39.273591Z",
     "shell.execute_reply.started": "2021-08-15T02:33:30.515527Z"
    },
    "papermill": {
     "duration": 0.062061,
     "end_time": "2021-08-15T03:17:39.273788",
     "exception": false,
     "start_time": "2021-08-15T03:17:39.211727",
     "status": "completed"
    },
    "tags": []
   },
   "outputs": [],
   "source": [
    "# def feature_selection(n_iters):\n",
    "def feature_selector(n_iters=10):\n",
    "    scores=[]\n",
    "    n=0\n",
    "    x=X.drop(['profession'],axis=1)\n",
    "    \n",
    "    while n<=n_iters:\n",
    "        mir_data=mic(x,y)\n",
    "        scores.append(mir_data)\n",
    "        n+=1\n",
    "        \n",
    "    mean_score=np.mean(a=np.array(scores),axis=0)\n",
    "    \n",
    "    mutual_info=pd.Series(mean_score,index=x.columns).sort_values(ascending=False)\n",
    "    \n",
    "    return mutual_info"
   ]
  },
  {
   "cell_type": "code",
   "execution_count": 13,
   "id": "e912de87",
   "metadata": {
    "execution": {
     "iopub.execute_input": "2021-08-15T03:17:39.381710Z",
     "iopub.status.busy": "2021-08-15T03:17:39.380244Z",
     "iopub.status.idle": "2021-08-15T03:20:53.186398Z",
     "shell.execute_reply": "2021-08-15T03:20:53.186965Z",
     "shell.execute_reply.started": "2021-08-15T02:33:30.529113Z"
    },
    "papermill": {
     "duration": 193.863116,
     "end_time": "2021-08-15T03:20:53.187193",
     "exception": false,
     "start_time": "2021-08-15T03:17:39.324077",
     "status": "completed"
    },
    "tags": []
   },
   "outputs": [
    {
     "data": {
      "text/plain": [
       "income_age_ratio       0.160716\n",
       "income_exp_ratio       0.160524\n",
       "P(income/total_exp)    0.159919\n",
       "income_joby_ratio      0.159785\n",
       "income                 0.159388\n",
       "pays_rent              0.040937\n",
       "house_ownership        0.040604\n",
       "working_age            0.026973\n",
       "age_exp_ratio          0.022147\n",
       "age_curjob_ratio       0.017372\n",
       "location               0.009215\n",
       "current_house_years    0.008334\n",
       "car_ownership          0.005149\n",
       "current_job_years      0.003848\n",
       "P(oth_work)            0.003609\n",
       "P(total_exp)           0.003176\n",
       "experience             0.003011\n",
       "other_exp              0.002808\n",
       "age                    0.002388\n",
       "married                0.001028\n",
       "econ_imp               0.000531\n",
       "capital                0.000402\n",
       "P(pays_car_emi)        0.000267\n",
       "P(pays_house_emi)      0.000000\n",
       "dtype: float64"
      ]
     },
     "execution_count": 13,
     "metadata": {},
     "output_type": "execute_result"
    }
   ],
   "source": [
    "feature_selector(1)"
   ]
  },
  {
   "cell_type": "code",
   "execution_count": 14,
   "id": "620d2e68",
   "metadata": {
    "execution": {
     "iopub.execute_input": "2021-08-15T03:20:53.303993Z",
     "iopub.status.busy": "2021-08-15T03:20:53.303249Z",
     "iopub.status.idle": "2021-08-15T03:20:56.262816Z",
     "shell.execute_reply": "2021-08-15T03:20:56.262186Z",
     "shell.execute_reply.started": "2021-08-15T02:33:31.052632Z"
    },
    "papermill": {
     "duration": 3.023759,
     "end_time": "2021-08-15T03:20:56.263020",
     "exception": false,
     "start_time": "2021-08-15T03:20:53.239261",
     "status": "completed"
    },
    "tags": []
   },
   "outputs": [],
   "source": [
    "def job_segments(df):\n",
    "    '''Cluster the jobs into super segments'''\n",
    "    df1=df.copy(deep=True)\n",
    "    \n",
    "    def get_key(prof,d):\n",
    "        for i,j in d.items():\n",
    "            if  prof in j:\n",
    "                return i\n",
    "            \n",
    "    \n",
    "    \n",
    "    prof_map={'Engineering':['Mechanical_engineer','Software_Developer',\n",
    "                             'Technical_writer','Design_Engineer',\n",
    "                            'Chemical_engineer','Biomedical_Engineer',\n",
    "                            'Computer_hardware_engineer','Petroleum_Engineer',\n",
    "                            'Engineer','Analyst','Web_designer','Civil_engineer',\n",
    "                            'Industrial_Engineer','Financial_Analyst','Design_Engineer'],\n",
    "\n",
    "                'Design':['Architect','Designer',\n",
    "                        'Artist',\n",
    "                        'Graphic_Designer','Fashion_Designer'],\n",
    "\n",
    "                'Academic':['Librarian','Economist',\n",
    "                         'Microbiologist','Geologist',\n",
    "                          'Statistician','Scientist'],\n",
    "\n",
    "                'Service':['Flight_attendant','Hotel_Manager',\n",
    "                         'Secretary','Computer_operator',\n",
    "                        'Technician','Drafter','Chef'],\n",
    "\n",
    "                'Specialist':['Physician','Air_traffic_controller',\n",
    "                            'Surveyor','Dentist','Chartered_Accountant',\n",
    "                           'Aviator','Psychologist','Lawyer','Surgeon',\n",
    "                            'Technology_specialist'],\n",
    "\n",
    "                'Public':['Civil_servant','Police_officer',\n",
    "                        'Politician','Magistrate',\n",
    "                        'Firefighter','Official',\n",
    "                       'Army_officer'],\n",
    "                'Gig':['Comedian','Consultant']}\n",
    "\n",
    "    \n",
    "    \n",
    "    for prof in df1['profession'].unique():\n",
    "        \n",
    "        sup_prof=get_key(prof=prof,\n",
    "                        d=prof_map)\n",
    "        \n",
    "        \n",
    "        df1.loc[df1['profession']==prof,'super_profession']=sup_prof\n",
    "        \n",
    "        \n",
    "    return df1\n",
    "\n",
    "\n",
    "        \n",
    "X=job_segments(X)\n",
    "X_test=job_segments(X_test)"
   ]
  },
  {
   "cell_type": "code",
   "execution_count": 15,
   "id": "f237963e",
   "metadata": {
    "execution": {
     "iopub.execute_input": "2021-08-15T03:20:56.373960Z",
     "iopub.status.busy": "2021-08-15T03:20:56.373302Z",
     "iopub.status.idle": "2021-08-15T03:20:56.382581Z",
     "shell.execute_reply": "2021-08-15T03:20:56.383084Z",
     "shell.execute_reply.started": "2021-08-15T02:33:31.146147Z"
    },
    "papermill": {
     "duration": 0.067926,
     "end_time": "2021-08-15T03:20:56.383299",
     "exception": false,
     "start_time": "2021-08-15T03:20:56.315373",
     "status": "completed"
    },
    "tags": []
   },
   "outputs": [
    {
     "data": {
      "text/plain": [
       "0    0.877\n",
       "1    0.123\n",
       "Name: risk_flag, dtype: float64"
      ]
     },
     "execution_count": 15,
     "metadata": {},
     "output_type": "execute_result"
    }
   ],
   "source": [
    "# ratio of Positive and Negative Samples\n",
    "y.value_counts(1)"
   ]
  },
  {
   "cell_type": "code",
   "execution_count": 16,
   "id": "207f6a4a",
   "metadata": {
    "execution": {
     "iopub.execute_input": "2021-08-15T03:20:56.490616Z",
     "iopub.status.busy": "2021-08-15T03:20:56.489958Z",
     "iopub.status.idle": "2021-08-15T03:20:56.492205Z",
     "shell.execute_reply": "2021-08-15T03:20:56.492703Z",
     "shell.execute_reply.started": "2021-08-15T02:33:31.158882Z"
    },
    "papermill": {
     "duration": 0.058287,
     "end_time": "2021-08-15T03:20:56.492915",
     "exception": false,
     "start_time": "2021-08-15T03:20:56.434628",
     "status": "completed"
    },
    "tags": []
   },
   "outputs": [],
   "source": [
    "categorical_columns=['profession','super_profession']"
   ]
  },
  {
   "cell_type": "markdown",
   "id": "bff23bbb",
   "metadata": {
    "papermill": {
     "duration": 0.051506,
     "end_time": "2021-08-15T03:20:56.596518",
     "exception": false,
     "start_time": "2021-08-15T03:20:56.545012",
     "status": "completed"
    },
    "tags": []
   },
   "source": [
    "# Optuna Hyperparameter optimization"
   ]
  },
  {
   "cell_type": "code",
   "execution_count": 17,
   "id": "59e31955",
   "metadata": {
    "execution": {
     "iopub.execute_input": "2021-08-15T03:20:56.704489Z",
     "iopub.status.busy": "2021-08-15T03:20:56.703804Z",
     "iopub.status.idle": "2021-08-15T03:20:56.713804Z",
     "shell.execute_reply": "2021-08-15T03:20:56.714361Z",
     "shell.execute_reply.started": "2021-08-15T02:33:31.172815Z"
    },
    "papermill": {
     "duration": 0.065086,
     "end_time": "2021-08-15T03:20:56.714542",
     "exception": false,
     "start_time": "2021-08-15T03:20:56.649456",
     "status": "completed"
    },
    "tags": []
   },
   "outputs": [],
   "source": [
    "def objective(trial:Trial):\n",
    "    \n",
    "    #splitting training data \n",
    "    x_train,x_test,y_train,y_test=train_test_split(X,y,\n",
    "                                                   random_state=7,\n",
    "                                                   shuffle=True,\n",
    "                                                   train_size=0.7,\n",
    "                                                   stratify=y)\n",
    "    \n",
    "    #hyperparam_grid\n",
    "    params={   'verbose'        : 0,\n",
    "               'loss_function'  :'Logloss',\n",
    "               'depth'          :trial.suggest_int('depth',4,10),\n",
    "               'learning_rate'  :trial.suggest_loguniform('learning_rate', 1e-3, 1e-1),\n",
    "               'l2_leaf_reg'    :trial.suggest_loguniform('l2_leaf_reg', 1e-2, 10.0),\n",
    "               'random_strength':trial.suggest_uniform('random_strength',1e-2,0.3),\n",
    "               'max_bin'        :trial.suggest_int('max_bin',64,254),\n",
    "#                'grow_policy'    :trial.suggest_categorical('grow_policy',\n",
    "#                                                            ['SymmetricTree','Depthwise','Lossguide']),\n",
    "               'iterations'     :trial.suggest_int('iterations',1000,2000),\n",
    "#                'max_leaves'     :trial.suggest_int('max_leaves',2,64),\n",
    "               \"colsample_bylevel\": trial.suggest_float(\"colsample_bylevel\", 0.1, 0.8),\n",
    "               \"boosting_type\": trial.suggest_categorical(\"boosting_type\", [\"Ordered\", \"Plain\"]),\n",
    "               \"bootstrap_type\": 'MVS',\n",
    "#             trial.suggest_categorical(\"bootstrap_type\",\n",
    "#                                                            [\"Bayesian\", \"MVS\",'Bernoulli']),\n",
    "               'eval_metric': 'AUC'\n",
    "                }\n",
    "    \n",
    "    \n",
    "    try:\n",
    "        model = cb(**params)\n",
    "\n",
    "        model.fit(x_train,y_train,\n",
    "                 eval_set=[(x_test,y_test)],\n",
    "                 verbose=0,\n",
    "                 cat_features=categorical_columns,\n",
    "                 early_stopping_rounds=300)\n",
    "\n",
    "        \n",
    "        preds=[i[1] for i in model.predict_proba(x_test)]\n",
    "\n",
    "        acc= auc(y_test,preds)\n",
    "        \n",
    "        return acc\n",
    "\n",
    "    except Exception as e:\n",
    "        print(e)\n",
    "        return None"
   ]
  },
  {
   "cell_type": "markdown",
   "id": "573247e4",
   "metadata": {
    "papermill": {
     "duration": 0.05087,
     "end_time": "2021-08-15T03:20:56.816302",
     "exception": false,
     "start_time": "2021-08-15T03:20:56.765432",
     "status": "completed"
    },
    "tags": []
   },
   "source": [
    "**Optimizing**"
   ]
  },
  {
   "cell_type": "code",
   "execution_count": 18,
   "id": "3f0bc3ba",
   "metadata": {
    "execution": {
     "iopub.execute_input": "2021-08-15T03:20:56.922180Z",
     "iopub.status.busy": "2021-08-15T03:20:56.921531Z",
     "iopub.status.idle": "2021-08-15T06:12:42.105278Z",
     "shell.execute_reply": "2021-08-15T06:12:42.104523Z",
     "shell.execute_reply.started": "2021-08-15T02:33:31.186302Z"
    },
    "papermill": {
     "duration": 10305.238271,
     "end_time": "2021-08-15T06:12:42.105719",
     "exception": false,
     "start_time": "2021-08-15T03:20:56.867448",
     "status": "completed"
    },
    "tags": []
   },
   "outputs": [
    {
     "name": "stderr",
     "output_type": "stream",
     "text": [
      "\u001b[32m[I 2021-08-15 03:20:56,924]\u001b[0m A new study created in memory with name: no-name-18e328ac-5287-49bc-9220-e0cfe4f207c1\u001b[0m\n",
      "\u001b[32m[I 2021-08-15 03:22:55,842]\u001b[0m Trial 0 finished with value: 0.8251355893766199 and parameters: {'depth': 4, 'learning_rate': 0.036294229783964016, 'l2_leaf_reg': 0.2066463288698664, 'random_strength': 0.21980490157097296, 'max_bin': 250, 'iterations': 1539, 'colsample_bylevel': 0.4507843245619566, 'boosting_type': 'Plain'}. Best is trial 0 with value: 0.8251355893766199.\u001b[0m\n",
      "\u001b[32m[I 2021-08-15 03:25:47,617]\u001b[0m Trial 1 finished with value: 0.892184018361035 and parameters: {'depth': 7, 'learning_rate': 0.022827586243750055, 'l2_leaf_reg': 2.577609408631827, 'random_strength': 0.12047292861307612, 'max_bin': 76, 'iterations': 1288, 'colsample_bylevel': 0.7367154694037296, 'boosting_type': 'Plain'}. Best is trial 1 with value: 0.892184018361035.\u001b[0m\n",
      "\u001b[32m[I 2021-08-15 03:31:18,146]\u001b[0m Trial 2 finished with value: 0.8198497295681655 and parameters: {'depth': 10, 'learning_rate': 0.0011214978751978735, 'l2_leaf_reg': 0.6333543422398139, 'random_strength': 0.2855375551199572, 'max_bin': 107, 'iterations': 1549, 'colsample_bylevel': 0.7363898624207119, 'boosting_type': 'Plain'}. Best is trial 1 with value: 0.892184018361035.\u001b[0m\n",
      "\u001b[32m[I 2021-08-15 03:34:46,178]\u001b[0m Trial 3 finished with value: 0.9141546833894612 and parameters: {'depth': 9, 'learning_rate': 0.021778425655735942, 'l2_leaf_reg': 0.2530804390632403, 'random_strength': 0.06940623618636056, 'max_bin': 157, 'iterations': 1372, 'colsample_bylevel': 0.43418080839611195, 'boosting_type': 'Plain'}. Best is trial 3 with value: 0.9141546833894612.\u001b[0m\n",
      "\u001b[32m[I 2021-08-15 03:38:36,194]\u001b[0m Trial 4 finished with value: 0.8655338422526189 and parameters: {'depth': 9, 'learning_rate': 0.004246091556540973, 'l2_leaf_reg': 0.5222470529555061, 'random_strength': 0.09005422401590157, 'max_bin': 150, 'iterations': 1353, 'colsample_bylevel': 0.5601796239458309, 'boosting_type': 'Plain'}. Best is trial 3 with value: 0.9141546833894612.\u001b[0m\n",
      "\u001b[32m[I 2021-08-15 03:44:32,894]\u001b[0m Trial 5 finished with value: 0.8865711071209021 and parameters: {'depth': 9, 'learning_rate': 0.006698594032574037, 'l2_leaf_reg': 5.239258268885324, 'random_strength': 0.062330969568777664, 'max_bin': 205, 'iterations': 1422, 'colsample_bylevel': 0.3985175008794597, 'boosting_type': 'Ordered'}. Best is trial 3 with value: 0.9141546833894612.\u001b[0m\n",
      "\u001b[32m[I 2021-08-15 03:48:41,098]\u001b[0m Trial 6 finished with value: 0.6385853606191159 and parameters: {'depth': 6, 'learning_rate': 0.0010065926643954659, 'l2_leaf_reg': 0.018914159085848353, 'random_strength': 0.21572437418031168, 'max_bin': 164, 'iterations': 1696, 'colsample_bylevel': 0.7688278261020483, 'boosting_type': 'Ordered'}. Best is trial 3 with value: 0.9141546833894612.\u001b[0m\n",
      "\u001b[32m[I 2021-08-15 03:52:50,462]\u001b[0m Trial 7 finished with value: 0.8659556169190548 and parameters: {'depth': 6, 'learning_rate': 0.015317552398482513, 'l2_leaf_reg': 0.05074125701038107, 'random_strength': 0.28984158986547676, 'max_bin': 244, 'iterations': 1849, 'colsample_bylevel': 0.4306267974018816, 'boosting_type': 'Ordered'}. Best is trial 3 with value: 0.9141546833894612.\u001b[0m\n",
      "\u001b[32m[I 2021-08-15 03:55:39,555]\u001b[0m Trial 8 finished with value: 0.8104884479995207 and parameters: {'depth': 6, 'learning_rate': 0.00843320753857757, 'l2_leaf_reg': 1.6808989351065449, 'random_strength': 0.15088931632558003, 'max_bin': 90, 'iterations': 1343, 'colsample_bylevel': 0.3270983187707101, 'boosting_type': 'Ordered'}. Best is trial 3 with value: 0.9141546833894612.\u001b[0m\n",
      "\u001b[32m[I 2021-08-15 03:59:31,645]\u001b[0m Trial 9 finished with value: 0.815456980105618 and parameters: {'depth': 6, 'learning_rate': 0.007874832318978876, 'l2_leaf_reg': 2.1120350803629955, 'random_strength': 0.24095330322693906, 'max_bin': 163, 'iterations': 1461, 'colsample_bylevel': 0.6447495210807277, 'boosting_type': 'Ordered'}. Best is trial 3 with value: 0.9141546833894612.\u001b[0m\n",
      "\u001b[32m[I 2021-08-15 04:01:14,541]\u001b[0m Trial 10 finished with value: 0.9079315452829477 and parameters: {'depth': 8, 'learning_rate': 0.0740632327846838, 'l2_leaf_reg': 0.08476866111490554, 'random_strength': 0.014973950439616919, 'max_bin': 130, 'iterations': 1046, 'colsample_bylevel': 0.13902927138969728, 'boosting_type': 'Plain'}. Best is trial 3 with value: 0.9141546833894612.\u001b[0m\n",
      "\u001b[32m[I 2021-08-15 04:02:43,997]\u001b[0m Trial 11 finished with value: 0.9037385158681507 and parameters: {'depth': 8, 'learning_rate': 0.09280450357991672, 'l2_leaf_reg': 0.09961886940252929, 'random_strength': 0.01003798720719521, 'max_bin': 126, 'iterations': 1036, 'colsample_bylevel': 0.10182529990140765, 'boosting_type': 'Plain'}. Best is trial 3 with value: 0.9141546833894612.\u001b[0m\n",
      "\u001b[32m[I 2021-08-15 04:04:42,027]\u001b[0m Trial 12 finished with value: 0.9100411209295222 and parameters: {'depth': 10, 'learning_rate': 0.09665763670028132, 'l2_leaf_reg': 0.01881703862254904, 'random_strength': 0.03705591561658744, 'max_bin': 196, 'iterations': 1038, 'colsample_bylevel': 0.11642120923849536, 'boosting_type': 'Plain'}. Best is trial 3 with value: 0.9141546833894612.\u001b[0m\n",
      "\u001b[32m[I 2021-08-15 04:07:34,457]\u001b[0m Trial 13 finished with value: 0.9139017577549 and parameters: {'depth': 10, 'learning_rate': 0.04593538447481418, 'l2_leaf_reg': 0.010283954083254549, 'random_strength': 0.048891689931317144, 'max_bin': 202, 'iterations': 1193, 'colsample_bylevel': 0.2287339001268665, 'boosting_type': 'Plain'}. Best is trial 3 with value: 0.9141546833894612.\u001b[0m\n",
      "\u001b[32m[I 2021-08-15 04:10:25,053]\u001b[0m Trial 14 finished with value: 0.9144427101459982 and parameters: {'depth': 10, 'learning_rate': 0.042996476742447644, 'l2_leaf_reg': 0.014143611326377117, 'random_strength': 0.07843497499515392, 'max_bin': 204, 'iterations': 1155, 'colsample_bylevel': 0.24260477137133124, 'boosting_type': 'Plain'}. Best is trial 14 with value: 0.9144427101459982.\u001b[0m\n",
      "\u001b[32m[I 2021-08-15 04:13:02,688]\u001b[0m Trial 15 finished with value: 0.9114556875486887 and parameters: {'depth': 9, 'learning_rate': 0.024726936506206068, 'l2_leaf_reg': 0.03364504405041358, 'random_strength': 0.09689935011892883, 'max_bin': 181, 'iterations': 1181, 'colsample_bylevel': 0.29552663577932825, 'boosting_type': 'Plain'}. Best is trial 14 with value: 0.9144427101459982.\u001b[0m\n",
      "\u001b[32m[I 2021-08-15 04:15:45,983]\u001b[0m Trial 16 finished with value: 0.9117333288108395 and parameters: {'depth': 8, 'learning_rate': 0.04763057593744081, 'l2_leaf_reg': 0.18001727920292104, 'random_strength': 0.14255283763860954, 'max_bin': 226, 'iterations': 1173, 'colsample_bylevel': 0.5475065624562251, 'boosting_type': 'Plain'}. Best is trial 14 with value: 0.9144427101459982.\u001b[0m\n",
      "\u001b[32m[I 2021-08-15 04:20:20,350]\u001b[0m Trial 17 finished with value: 0.8818671821003372 and parameters: {'depth': 10, 'learning_rate': 0.003348268615963406, 'l2_leaf_reg': 0.6707005593919703, 'random_strength': 0.07915052383982737, 'max_bin': 225, 'iterations': 1722, 'colsample_bylevel': 0.22241973309183882, 'boosting_type': 'Plain'}. Best is trial 14 with value: 0.9144427101459982.\u001b[0m\n",
      "\u001b[32m[I 2021-08-15 04:23:43,874]\u001b[0m Trial 18 finished with value: 0.9086087434226695 and parameters: {'depth': 9, 'learning_rate': 0.015215034502112664, 'l2_leaf_reg': 7.964475488650269, 'random_strength': 0.11608345310083161, 'max_bin': 181, 'iterations': 1247, 'colsample_bylevel': 0.5204444497292844, 'boosting_type': 'Plain'}. Best is trial 14 with value: 0.9144427101459982.\u001b[0m\n",
      "\u001b[32m[I 2021-08-15 04:26:37,231]\u001b[0m Trial 19 finished with value: 0.9004763887747718 and parameters: {'depth': 7, 'learning_rate': 0.028824973236823693, 'l2_leaf_reg': 0.010135168083227255, 'random_strength': 0.19057363500399854, 'max_bin': 147, 'iterations': 1626, 'colsample_bylevel': 0.34801069896653597, 'boosting_type': 'Plain'}. Best is trial 14 with value: 0.9144427101459982.\u001b[0m\n",
      "\u001b[32m[I 2021-08-15 04:27:54,321]\u001b[0m Trial 20 finished with value: 0.8259130254599721 and parameters: {'depth': 4, 'learning_rate': 0.0602289602439591, 'l2_leaf_reg': 0.3253869683270068, 'random_strength': 0.027031235628684064, 'max_bin': 224, 'iterations': 1103, 'colsample_bylevel': 0.21722505869915956, 'boosting_type': 'Plain'}. Best is trial 14 with value: 0.9144427101459982.\u001b[0m\n",
      "\u001b[32m[I 2021-08-15 04:30:47,228]\u001b[0m Trial 21 finished with value: 0.9150492567551928 and parameters: {'depth': 10, 'learning_rate': 0.040363452811704094, 'l2_leaf_reg': 0.01182076411689768, 'random_strength': 0.0525305275674724, 'max_bin': 205, 'iterations': 1185, 'colsample_bylevel': 0.22042292619639423, 'boosting_type': 'Plain'}. Best is trial 21 with value: 0.9150492567551928.\u001b[0m\n",
      "\u001b[32m[I 2021-08-15 04:33:42,140]\u001b[0m Trial 22 finished with value: 0.908720390325774 and parameters: {'depth': 10, 'learning_rate': 0.015616255487566247, 'l2_leaf_reg': 0.02081652532601651, 'random_strength': 0.06429602719804546, 'max_bin': 183, 'iterations': 1320, 'colsample_bylevel': 0.1689754370537773, 'boosting_type': 'Plain'}. Best is trial 21 with value: 0.9150492567551928.\u001b[0m\n",
      "\u001b[32m[I 2021-08-15 04:36:45,418]\u001b[0m Trial 23 finished with value: 0.9132512913554527 and parameters: {'depth': 9, 'learning_rate': 0.038458033462931356, 'l2_leaf_reg': 0.010147146452368964, 'random_strength': 0.11344403495750804, 'max_bin': 215, 'iterations': 1412, 'colsample_bylevel': 0.28425858477905386, 'boosting_type': 'Plain'}. Best is trial 21 with value: 0.9150492567551928.\u001b[0m\n",
      "\u001b[32m[I 2021-08-15 04:40:00,614]\u001b[0m Trial 24 finished with value: 0.9135784157759251 and parameters: {'depth': 10, 'learning_rate': 0.01930058217590662, 'l2_leaf_reg': 0.042464835693089266, 'random_strength': 0.0701310048715177, 'max_bin': 241, 'iterations': 1118, 'colsample_bylevel': 0.3842772920547026, 'boosting_type': 'Plain'}. Best is trial 21 with value: 0.9150492567551928.\u001b[0m\n",
      "\u001b[32m[I 2021-08-15 04:42:48,520]\u001b[0m Trial 25 finished with value: 0.913530306428902 and parameters: {'depth': 8, 'learning_rate': 0.0585833876670076, 'l2_leaf_reg': 0.08192726762370575, 'random_strength': 0.04250958003976739, 'max_bin': 188, 'iterations': 1256, 'colsample_bylevel': 0.4691064539287, 'boosting_type': 'Plain'}. Best is trial 21 with value: 0.9150492567551928.\u001b[0m\n",
      "\u001b[32m[I 2021-08-15 04:44:58,586]\u001b[0m Trial 26 finished with value: 0.9112402684223557 and parameters: {'depth': 9, 'learning_rate': 0.033401521864256135, 'l2_leaf_reg': 0.0236964113233775, 'random_strength': 0.17778007913672045, 'max_bin': 170, 'iterations': 1119, 'colsample_bylevel': 0.17003437790425477, 'boosting_type': 'Plain'}. Best is trial 21 with value: 0.9150492567551928.\u001b[0m\n",
      "\u001b[32m[I 2021-08-15 04:48:22,376]\u001b[0m Trial 27 finished with value: 0.9115501772193056 and parameters: {'depth': 10, 'learning_rate': 0.011045449289071245, 'l2_leaf_reg': 1.1970096440100018, 'random_strength': 0.09862747829397786, 'max_bin': 130, 'iterations': 1228, 'colsample_bylevel': 0.2734371404359603, 'boosting_type': 'Plain'}. Best is trial 21 with value: 0.9150492567551928.\u001b[0m\n",
      "\u001b[32m[I 2021-08-15 04:52:07,381]\u001b[0m Trial 28 finished with value: 0.912721670069115 and parameters: {'depth': 9, 'learning_rate': 0.06973512970481888, 'l2_leaf_reg': 0.012454226285563202, 'random_strength': 0.011628414349638107, 'max_bin': 142, 'iterations': 1364, 'colsample_bylevel': 0.6530059728119819, 'boosting_type': 'Plain'}. Best is trial 21 with value: 0.9150492567551928.\u001b[0m\n",
      "\u001b[32m[I 2021-08-15 04:54:05,212]\u001b[0m Trial 29 finished with value: 0.8241434478351417 and parameters: {'depth': 4, 'learning_rate': 0.03410454916339153, 'l2_leaf_reg': 0.1820631308138442, 'random_strength': 0.05097095481177362, 'max_bin': 209, 'iterations': 1506, 'colsample_bylevel': 0.4832608098299233, 'boosting_type': 'Plain'}. Best is trial 21 with value: 0.9150492567551928.\u001b[0m\n",
      "\u001b[32m[I 2021-08-15 04:56:32,569]\u001b[0m Trial 30 finished with value: 0.883582769103329 and parameters: {'depth': 8, 'learning_rate': 0.011187274279194883, 'l2_leaf_reg': 0.12299652772130028, 'random_strength': 0.1323770483895555, 'max_bin': 252, 'iterations': 1125, 'colsample_bylevel': 0.3620644870093471, 'boosting_type': 'Plain'}. Best is trial 21 with value: 0.9150492567551928.\u001b[0m\n",
      "\u001b[32m[I 2021-08-15 04:59:27,458]\u001b[0m Trial 31 finished with value: 0.9154500057830643 and parameters: {'depth': 10, 'learning_rate': 0.04384387653459677, 'l2_leaf_reg': 0.013278036431744399, 'random_strength': 0.048923782798130644, 'max_bin': 198, 'iterations': 1195, 'colsample_bylevel': 0.2296436074030866, 'boosting_type': 'Plain'}. Best is trial 31 with value: 0.9154500057830643.\u001b[0m\n",
      "\u001b[32m[I 2021-08-15 05:02:25,024]\u001b[0m Trial 32 finished with value: 0.9147921221001829 and parameters: {'depth': 10, 'learning_rate': 0.04479665287981362, 'l2_leaf_reg': 0.013980483137771319, 'random_strength': 0.02795432358137986, 'max_bin': 195, 'iterations': 1280, 'colsample_bylevel': 0.1770131436313045, 'boosting_type': 'Plain'}. Best is trial 31 with value: 0.9154500057830643.\u001b[0m\n",
      "\u001b[32m[I 2021-08-15 05:05:25,581]\u001b[0m Trial 33 finished with value: 0.9137473134669958 and parameters: {'depth': 10, 'learning_rate': 0.052228041614729756, 'l2_leaf_reg': 0.014700208671339754, 'random_strength': 0.027195415193898877, 'max_bin': 194, 'iterations': 1290, 'colsample_bylevel': 0.18356694745051277, 'boosting_type': 'Plain'}. Best is trial 31 with value: 0.9154500057830643.\u001b[0m\n",
      "\u001b[32m[I 2021-08-15 05:08:06,375]\u001b[0m Trial 34 finished with value: 0.915333311299368 and parameters: {'depth': 10, 'learning_rate': 0.08384582512921053, 'l2_leaf_reg': 0.03034349507176029, 'random_strength': 0.029376831645795614, 'max_bin': 215, 'iterations': 1013, 'colsample_bylevel': 0.2541264776442241, 'boosting_type': 'Plain'}. Best is trial 31 with value: 0.9154500057830643.\u001b[0m\n",
      "\u001b[32m[I 2021-08-15 05:10:17,389]\u001b[0m Trial 35 finished with value: 0.9138996167502788 and parameters: {'depth': 10, 'learning_rate': 0.08021575979921686, 'l2_leaf_reg': 0.030959000733088687, 'random_strength': 0.02353014189002566, 'max_bin': 233, 'iterations': 1010, 'colsample_bylevel': 0.1424268880433665, 'boosting_type': 'Plain'}. Best is trial 31 with value: 0.9154500057830643.\u001b[0m\n",
      "\u001b[32m[I 2021-08-15 05:13:15,376]\u001b[0m Trial 36 finished with value: 0.9169202466322488 and parameters: {'depth': 10, 'learning_rate': 0.02753501435883327, 'l2_leaf_reg': 0.047511026784942366, 'random_strength': 0.0513903986128908, 'max_bin': 217, 'iterations': 1075, 'colsample_bylevel': 0.3198516349519295, 'boosting_type': 'Plain'}. Best is trial 36 with value: 0.9169202466322488.\u001b[0m\n",
      "\u001b[32m[I 2021-08-15 05:15:47,151]\u001b[0m Trial 37 finished with value: 0.9116859753033268 and parameters: {'depth': 9, 'learning_rate': 0.028372882070683825, 'l2_leaf_reg': 0.06518661661999346, 'random_strength': 0.054904329933023695, 'max_bin': 218, 'iterations': 1087, 'colsample_bylevel': 0.3169077189279553, 'boosting_type': 'Plain'}. Best is trial 36 with value: 0.9169202466322488.\u001b[0m\n",
      "\u001b[32m[I 2021-08-15 05:18:07,601]\u001b[0m Trial 38 finished with value: 0.9058138240869732 and parameters: {'depth': 9, 'learning_rate': 0.01879834708028729, 'l2_leaf_reg': 0.029469389703233692, 'random_strength': 0.09421206938764706, 'max_bin': 237, 'iterations': 1067, 'colsample_bylevel': 0.2710425528825172, 'boosting_type': 'Plain'}. Best is trial 36 with value: 0.9169202466322488.\u001b[0m\n",
      "\u001b[32m[I 2021-08-15 05:21:49,660]\u001b[0m Trial 39 finished with value: 0.6831012195342362 and parameters: {'depth': 10, 'learning_rate': 0.00151787874295045, 'l2_leaf_reg': 0.05150920622054138, 'random_strength': 0.04230695739691659, 'max_bin': 214, 'iterations': 1009, 'colsample_bylevel': 0.2580207028432689, 'boosting_type': 'Ordered'}. Best is trial 36 with value: 0.9169202466322488.\u001b[0m\n",
      "\u001b[32m[I 2021-08-15 05:24:51,225]\u001b[0m Trial 40 finished with value: 0.913012811014192 and parameters: {'depth': 9, 'learning_rate': 0.09814910108243555, 'l2_leaf_reg': 0.04659728412910406, 'random_strength': 0.0805477546732922, 'max_bin': 173, 'iterations': 1211, 'colsample_bylevel': 0.4078586402268889, 'boosting_type': 'Plain'}. Best is trial 36 with value: 0.9169202466322488.\u001b[0m\n",
      "\u001b[32m[I 2021-08-15 05:27:58,587]\u001b[0m Trial 41 finished with value: 0.9137181568767904 and parameters: {'depth': 10, 'learning_rate': 0.05607104162907047, 'l2_leaf_reg': 0.01724470502620664, 'random_strength': 0.02915116742303485, 'max_bin': 198, 'iterations': 1290, 'colsample_bylevel': 0.19841604895711268, 'boosting_type': 'Plain'}. Best is trial 36 with value: 0.9169202466322488.\u001b[0m\n",
      "\u001b[32m[I 2021-08-15 05:31:04,745]\u001b[0m Trial 42 finished with value: 0.9160748742015024 and parameters: {'depth': 10, 'learning_rate': 0.03760486075885178, 'l2_leaf_reg': 0.026860948334869406, 'random_strength': 0.010935306099920081, 'max_bin': 189, 'iterations': 1141, 'colsample_bylevel': 0.30623734302651767, 'boosting_type': 'Plain'}. Best is trial 36 with value: 0.9169202466322488.\u001b[0m\n",
      "\u001b[32m[I 2021-08-15 05:36:40,383]\u001b[0m Trial 43 finished with value: 0.9179066463886064 and parameters: {'depth': 10, 'learning_rate': 0.027276944955829704, 'l2_leaf_reg': 0.027758736296405108, 'random_strength': 0.013849312691211818, 'max_bin': 209, 'iterations': 1969, 'colsample_bylevel': 0.35140007149115216, 'boosting_type': 'Plain'}. Best is trial 43 with value: 0.9179066463886064.\u001b[0m\n",
      "\u001b[32m[I 2021-08-15 05:39:30,735]\u001b[0m Trial 44 finished with value: 0.8511711738887799 and parameters: {'depth': 5, 'learning_rate': 0.02882335347922401, 'l2_leaf_reg': 0.026328381404857843, 'random_strength': 0.011047389356977196, 'max_bin': 231, 'iterations': 1583, 'colsample_bylevel': 0.31861547493481124, 'boosting_type': 'Ordered'}. Best is trial 43 with value: 0.9179066463886064.\u001b[0m\n",
      "\u001b[32m[I 2021-08-15 05:45:11,021]\u001b[0m Trial 45 finished with value: 0.9177678379223299 and parameters: {'depth': 10, 'learning_rate': 0.023615223976810543, 'l2_leaf_reg': 0.03324501041417279, 'random_strength': 0.010032956044213427, 'max_bin': 217, 'iterations': 1968, 'colsample_bylevel': 0.3641719733998654, 'boosting_type': 'Plain'}. Best is trial 43 with value: 0.9179066463886064.\u001b[0m\n",
      "\u001b[32m[I 2021-08-15 05:49:56,444]\u001b[0m Trial 46 finished with value: 0.9156612483284127 and parameters: {'depth': 9, 'learning_rate': 0.02262599907025372, 'l2_leaf_reg': 0.060467104812848234, 'random_strength': 0.010622163342236125, 'max_bin': 245, 'iterations': 2000, 'colsample_bylevel': 0.36308303358961624, 'boosting_type': 'Plain'}. Best is trial 43 with value: 0.9179066463886064.\u001b[0m\n",
      "\u001b[32m[I 2021-08-15 05:54:54,956]\u001b[0m Trial 47 finished with value: 0.917561130414043 and parameters: {'depth': 9, 'learning_rate': 0.021727673871308497, 'l2_leaf_reg': 0.12567911695689643, 'random_strength': 0.2697775179358567, 'max_bin': 247, 'iterations': 1986, 'colsample_bylevel': 0.41884572595799596, 'boosting_type': 'Plain'}. Best is trial 43 with value: 0.9179066463886064.\u001b[0m\n",
      "\u001b[32m[I 2021-08-15 06:02:58,842]\u001b[0m Trial 48 finished with value: 0.9057438472972961 and parameters: {'depth': 9, 'learning_rate': 0.013414283565860606, 'l2_leaf_reg': 0.14610834132726358, 'random_strength': 0.2739711771297166, 'max_bin': 254, 'iterations': 1998, 'colsample_bylevel': 0.42366347521361947, 'boosting_type': 'Ordered'}. Best is trial 43 with value: 0.9179066463886064.\u001b[0m\n",
      "\u001b[32m[I 2021-08-15 06:07:17,319]\u001b[0m Trial 49 finished with value: 0.9075516499644816 and parameters: {'depth': 8, 'learning_rate': 0.018313404383133728, 'l2_leaf_reg': 0.07952922280402216, 'random_strength': 0.2539807267035483, 'max_bin': 245, 'iterations': 1929, 'colsample_bylevel': 0.4633722954070652, 'boosting_type': 'Plain'}. Best is trial 43 with value: 0.9179066463886064.\u001b[0m\n",
      "\u001b[32m[I 2021-08-15 06:12:42,012]\u001b[0m Trial 50 finished with value: 0.906162695924083 and parameters: {'depth': 10, 'learning_rate': 0.005379165719889768, 'l2_leaf_reg': 0.03988794907281512, 'random_strength': 0.2183450686564108, 'max_bin': 65, 'iterations': 1838, 'colsample_bylevel': 0.38045739534744016, 'boosting_type': 'Plain'}. Best is trial 43 with value: 0.9179066463886064.\u001b[0m\n"
     ]
    },
    {
     "name": "stdout",
     "output_type": "stream",
     "text": [
      "Number of finished trials: 51\n"
     ]
    }
   ],
   "source": [
    "def get_best_params(time_out=10000):\n",
    "    '''time_out: time out in seconds'''\n",
    "    sampler = optuna.samplers.TPESampler(seed=7)  # Make the sampler behave in a deterministic way.\n",
    "    study=optuna.create_study(direction='maximize',sampler=sampler)\n",
    "    study.optimize(objective, n_trials=300, timeout=time_out)\n",
    "    \n",
    "    print(\"Number of finished trials: {}\".format(len(study.trials)))\n",
    "    \n",
    "    return study.best_trial.params\n",
    "\n",
    "\n",
    "best_params=get_best_params()"
   ]
  },
  {
   "cell_type": "code",
   "execution_count": 19,
   "id": "e3bae081",
   "metadata": {
    "execution": {
     "iopub.execute_input": "2021-08-15T06:12:42.253885Z",
     "iopub.status.busy": "2021-08-15T06:12:42.252930Z",
     "iopub.status.idle": "2021-08-15T06:12:42.257805Z",
     "shell.execute_reply": "2021-08-15T06:12:42.257284Z",
     "shell.execute_reply.started": "2021-08-15T02:34:22.435222Z"
    },
    "papermill": {
     "duration": 0.083219,
     "end_time": "2021-08-15T06:12:42.257978",
     "exception": false,
     "start_time": "2021-08-15T06:12:42.174759",
     "status": "completed"
    },
    "tags": []
   },
   "outputs": [
    {
     "data": {
      "text/plain": [
       "{'depth': 10,\n",
       " 'learning_rate': 0.027276944955829704,\n",
       " 'l2_leaf_reg': 0.027758736296405108,\n",
       " 'random_strength': 0.013849312691211818,\n",
       " 'max_bin': 209,\n",
       " 'iterations': 5000,\n",
       " 'colsample_bylevel': 0.35140007149115216,\n",
       " 'boosting_type': 'Plain',\n",
       " 'verbose': 0,\n",
       " 'loss_function': 'Logloss',\n",
       " 'bootstrap_type': 'MVS',\n",
       " 'eval_metric': 'AUC'}"
      ]
     },
     "execution_count": 19,
     "metadata": {},
     "output_type": "execute_result"
    }
   ],
   "source": [
    "best_params['verbose']       = 0\n",
    "best_params['loss_function'] ='Logloss'\n",
    "best_params[\"bootstrap_type\"]= 'MVS'\n",
    "best_params['eval_metric']   = 'AUC'\n",
    "best_params['iterations']    = 5000\n",
    "\n",
    "\n",
    "best_params"
   ]
  },
  {
   "cell_type": "markdown",
   "id": "4927973e",
   "metadata": {
    "papermill": {
     "duration": 0.164719,
     "end_time": "2021-08-15T06:12:42.491324",
     "exception": false,
     "start_time": "2021-08-15T06:12:42.326605",
     "status": "completed"
    },
    "tags": []
   },
   "source": [
    "# Model Fitting and Prediction"
   ]
  },
  {
   "cell_type": "code",
   "execution_count": 20,
   "id": "596cbb74",
   "metadata": {
    "execution": {
     "iopub.execute_input": "2021-08-15T06:12:42.638224Z",
     "iopub.status.busy": "2021-08-15T06:12:42.637484Z",
     "iopub.status.idle": "2021-08-15T06:12:42.640296Z",
     "shell.execute_reply": "2021-08-15T06:12:42.639729Z",
     "shell.execute_reply.started": "2021-08-15T02:34:22.444633Z"
    },
    "papermill": {
     "duration": 0.08106,
     "end_time": "2021-08-15T06:12:42.640451",
     "exception": false,
     "start_time": "2021-08-15T06:12:42.559391",
     "status": "completed"
    },
    "tags": []
   },
   "outputs": [],
   "source": [
    "def k_fold_predict(k,\n",
    "                  params=best_params):\n",
    "    \n",
    "    \n",
    "    skf=StratifiedKFold(n_splits=k,\n",
    "                       shuffle=True,\n",
    "                       random_state=7)\n",
    "    \n",
    "    mean_preds=np.zeros(shape=(X_test.shape[0]))\n",
    "    train_check=np.zeros(shape=(X.shape[0]))   \n",
    "    \n",
    "    i=0\n",
    "    for train_idx,val_idx in skf.split(X,y):\n",
    "        x_t,x_v=X.iloc[train_idx],X.iloc[val_idx]\n",
    "        y_t,y_v=y.iloc[train_idx],y.iloc[val_idx]\n",
    "        \n",
    "        model=cb(**params)        \n",
    "        model.fit(x_t,y_t,\n",
    "                 cat_features=categorical_columns\n",
    "                 )\n",
    "        \n",
    "        \n",
    "        print('Validation AUC score for fold {} = {}'.format(i,\n",
    "                                                         auc(\n",
    "                                            y_v,\n",
    "                                            [i[1] for i in model.predict_proba(x_v)])))\n",
    "        i+=1\n",
    "        \n",
    "        #test predictions\n",
    "        test_p=np.array([i[1] for i in model.predict_proba(X_test)])\n",
    "        mean_preds+=test_p\n",
    "        \n",
    "        \n",
    "        #training preds\n",
    "        train_p=np.array([i[1] for i in model.predict_proba(X)])      \n",
    "        train_check+=train_p\n",
    "        \n",
    "        \n",
    "    mean_preds=mean_preds/k\n",
    "    train_check=train_check/k\n",
    "    \n",
    "    return mean_preds,train_check"
   ]
  },
  {
   "cell_type": "markdown",
   "id": "47939052",
   "metadata": {
    "papermill": {
     "duration": 0.068357,
     "end_time": "2021-08-15T06:12:42.777506",
     "exception": false,
     "start_time": "2021-08-15T06:12:42.709149",
     "status": "completed"
    },
    "tags": []
   },
   "source": [
    "**Training and prediction on folds**"
   ]
  },
  {
   "cell_type": "code",
   "execution_count": 21,
   "id": "ef6b523a",
   "metadata": {
    "execution": {
     "iopub.execute_input": "2021-08-15T06:12:42.925372Z",
     "iopub.status.busy": "2021-08-15T06:12:42.924175Z",
     "iopub.status.idle": "2021-08-15T08:00:33.190334Z",
     "shell.execute_reply": "2021-08-15T08:00:33.191422Z",
     "shell.execute_reply.started": "2021-08-15T02:34:22.458764Z"
    },
    "papermill": {
     "duration": 6470.344914,
     "end_time": "2021-08-15T08:00:33.192703",
     "exception": false,
     "start_time": "2021-08-15T06:12:42.847789",
     "status": "completed"
    },
    "tags": []
   },
   "outputs": [
    {
     "name": "stdout",
     "output_type": "stream",
     "text": [
      "Validation AUC score for fold 0 = 0.9279354134814206\n",
      "Validation AUC score for fold 1 = 0.9216519880685102\n",
      "Validation AUC score for fold 2 = 0.9256586885730338\n",
      "Validation AUC score for fold 3 = 0.916780052986243\n",
      "Validation AUC score for fold 4 = 0.9251918422278738\n",
      "Validation AUC score for fold 5 = 0.92495164334377\n",
      "Validation AUC score for fold 6 = 0.9213937957272009\n"
     ]
    }
   ],
   "source": [
    "# %%time\n",
    "test_pred,train_pred=k_fold_predict(7)\n",
    "\n",
    "preds=pd.DataFrame(test_pred,columns=['risk_flag'])\n",
    "train_preds=pd.DataFrame(train_pred,columns=['risk_flag'])\n",
    "\n",
    "preds['id']=test_ids\n",
    "train_preds['id']=train_ids"
   ]
  },
  {
   "cell_type": "code",
   "execution_count": 22,
   "id": "b5b6875c",
   "metadata": {
    "execution": {
     "iopub.execute_input": "2021-08-15T08:00:33.342670Z",
     "iopub.status.busy": "2021-08-15T08:00:33.341971Z",
     "iopub.status.idle": "2021-08-15T08:00:33.437558Z",
     "shell.execute_reply": "2021-08-15T08:00:33.438113Z",
     "shell.execute_reply.started": "2021-08-15T02:35:32.196874Z"
    },
    "papermill": {
     "duration": 0.173653,
     "end_time": "2021-08-15T08:00:33.438322",
     "exception": false,
     "start_time": "2021-08-15T08:00:33.264669",
     "status": "completed"
    },
    "tags": []
   },
   "outputs": [
    {
     "name": "stdout",
     "output_type": "stream",
     "text": [
      "AUC score for train set 0.9693875163512812\n"
     ]
    }
   ],
   "source": [
    "train_auc=auc(y,\n",
    "             train_preds['risk_flag'])\n",
    "print(f'AUC score for train set {train_auc}')"
   ]
  },
  {
   "cell_type": "code",
   "execution_count": 23,
   "id": "d6fa6b18",
   "metadata": {
    "execution": {
     "iopub.execute_input": "2021-08-15T08:00:33.587283Z",
     "iopub.status.busy": "2021-08-15T08:00:33.586553Z",
     "iopub.status.idle": "2021-08-15T08:00:33.643758Z",
     "shell.execute_reply": "2021-08-15T08:00:33.643225Z",
     "shell.execute_reply.started": "2021-08-15T02:35:32.205724Z"
    },
    "papermill": {
     "duration": 0.134724,
     "end_time": "2021-08-15T08:00:33.643937",
     "exception": false,
     "start_time": "2021-08-15T08:00:33.509213",
     "status": "completed"
    },
    "tags": []
   },
   "outputs": [
    {
     "name": "stdout",
     "output_type": "stream",
     "text": [
      "Best Threshold (TPR-FPR)= 0.17582549002931389 \n",
      " TPR :0.9991934443153956 \n",
      " FPR :0.08522922662033267\n",
      "Best Threshold (geometric mean) = 0.175825 \n",
      " G-Mean=0.956\n"
     ]
    }
   ],
   "source": [
    "def roc_threshold(y_true,y_pred):\n",
    "    '''get best threshold from a roc_auc_curve\n",
    "    y_true: ground truth\n",
    "    y_pred: predicted probabilities'''\n",
    "\n",
    "\n",
    "    fpr, tpr, thresholds = roc_curve(y_true, y_pred)\n",
    "    # get the best threshold\n",
    "    J = tpr - fpr\n",
    "    ix = np.argmax(J)\n",
    "    best_thresh = thresholds[ix]\n",
    "    thresh_tpr=tpr[ix]\n",
    "    thresh_fpr=fpr[ix]\n",
    "    print(f'Best Threshold (TPR-FPR)= {best_thresh} \\n TPR :{thresh_tpr} \\n FPR :{thresh_fpr}')\n",
    "\n",
    "    #best threshold by geometric mean :\n",
    "    # calculate the g-mean for each threshold\n",
    "    gmeans = np.sqrt(tpr * (1-fpr))\n",
    "\n",
    "    # locate the index of the largest g-mean\n",
    "    ix1 = np.argmax(gmeans)\n",
    "    \n",
    "    \n",
    "    print('Best Threshold (geometric mean) = %f \\n G-Mean=%.3f' % (thresholds[ix1], gmeans[ix1]))\n",
    "\n",
    "    return best_thresh\n",
    "\n",
    "best_thresh=roc_threshold(y,train_preds['risk_flag'])"
   ]
  },
  {
   "cell_type": "code",
   "execution_count": 24,
   "id": "dc62a709",
   "metadata": {
    "execution": {
     "iopub.execute_input": "2021-08-15T08:00:33.796254Z",
     "iopub.status.busy": "2021-08-15T08:00:33.795529Z",
     "iopub.status.idle": "2021-08-15T08:00:33.798803Z",
     "shell.execute_reply": "2021-08-15T08:00:33.799368Z",
     "shell.execute_reply.started": "2021-08-15T02:35:32.218934Z"
    },
    "papermill": {
     "duration": 0.083838,
     "end_time": "2021-08-15T08:00:33.799578",
     "exception": false,
     "start_time": "2021-08-15T08:00:33.715740",
     "status": "completed"
    },
    "tags": []
   },
   "outputs": [
    {
     "data": {
      "text/plain": [
       "0.17582549002931389"
      ]
     },
     "execution_count": 24,
     "metadata": {},
     "output_type": "execute_result"
    }
   ],
   "source": [
    "#best threshold from above method\n",
    "thresh=best_thresh\n",
    "\n",
    "thresh"
   ]
  },
  {
   "cell_type": "markdown",
   "id": "65140f8e",
   "metadata": {
    "papermill": {
     "duration": 0.07123,
     "end_time": "2021-08-15T08:00:33.943254",
     "exception": false,
     "start_time": "2021-08-15T08:00:33.872024",
     "status": "completed"
    },
    "tags": []
   },
   "source": [
    "**Converting Probablities into Flags (i.e, 0:No Risk, 1: Risk)**"
   ]
  },
  {
   "cell_type": "code",
   "execution_count": 25,
   "id": "ddd14867",
   "metadata": {
    "execution": {
     "iopub.execute_input": "2021-08-15T08:00:34.091026Z",
     "iopub.status.busy": "2021-08-15T08:00:34.090374Z",
     "iopub.status.idle": "2021-08-15T08:00:34.138485Z",
     "shell.execute_reply": "2021-08-15T08:00:34.139055Z",
     "shell.execute_reply.started": "2021-08-15T02:35:32.235972Z"
    },
    "papermill": {
     "duration": 0.124046,
     "end_time": "2021-08-15T08:00:34.139249",
     "exception": false,
     "start_time": "2021-08-15T08:00:34.015203",
     "status": "completed"
    },
    "tags": []
   },
   "outputs": [],
   "source": [
    "def get_bool(predictions_df,threshold):\n",
    "    '''get 1/0 based on thresholds'''\n",
    "    \n",
    "    df=predictions_df.copy(deep=True)\n",
    "    \n",
    "    df['risk_flag']=df['risk_flag'].apply(lambda x: int(x>=threshold))\n",
    "    \n",
    "    df=df[['id','risk_flag']]\n",
    "    \n",
    "    return df\n",
    "\n",
    "submissions=get_bool(predictions_df=preds,\n",
    "                     threshold=thresh)"
   ]
  },
  {
   "cell_type": "markdown",
   "id": "6f7f1c77",
   "metadata": {
    "papermill": {
     "duration": 0.071293,
     "end_time": "2021-08-15T08:00:34.281380",
     "exception": false,
     "start_time": "2021-08-15T08:00:34.210087",
     "status": "completed"
    },
    "tags": []
   },
   "source": [
    "**checking the AUC score on Predicted Training Set**"
   ]
  },
  {
   "cell_type": "code",
   "execution_count": 26,
   "id": "68e00387",
   "metadata": {
    "execution": {
     "iopub.execute_input": "2021-08-15T08:00:34.426463Z",
     "iopub.status.busy": "2021-08-15T08:00:34.425802Z",
     "iopub.status.idle": "2021-08-15T08:00:34.810636Z",
     "shell.execute_reply": "2021-08-15T08:00:34.810106Z",
     "shell.execute_reply.started": "2021-08-15T02:35:32.250858Z"
    },
    "papermill": {
     "duration": 0.45837,
     "end_time": "2021-08-15T08:00:34.810785",
     "exception": false,
     "start_time": "2021-08-15T08:00:34.352415",
     "status": "completed"
    },
    "tags": []
   },
   "outputs": [
    {
     "data": {
      "text/plain": [
       "0.9569821088475313"
      ]
     },
     "execution_count": 26,
     "metadata": {},
     "output_type": "execute_result"
    }
   ],
   "source": [
    "\n",
    "tr=get_bool(predictions_df=train_preds,\n",
    "                     threshold=thresh)\n",
    "\n",
    "auc(y,tr['risk_flag'])"
   ]
  },
  {
   "cell_type": "code",
   "execution_count": 27,
   "id": "b9c834f6",
   "metadata": {
    "execution": {
     "iopub.execute_input": "2021-08-15T08:00:34.961072Z",
     "iopub.status.busy": "2021-08-15T08:00:34.960414Z",
     "iopub.status.idle": "2021-08-15T08:00:34.968776Z",
     "shell.execute_reply": "2021-08-15T08:00:34.969481Z",
     "shell.execute_reply.started": "2021-08-15T02:35:32.272488Z"
    },
    "papermill": {
     "duration": 0.087058,
     "end_time": "2021-08-15T08:00:34.969668",
     "exception": false,
     "start_time": "2021-08-15T08:00:34.882610",
     "status": "completed"
    },
    "tags": []
   },
   "outputs": [
    {
     "data": {
      "text/plain": [
       "0    0.850179\n",
       "1    0.149821\n",
       "Name: risk_flag, dtype: float64"
      ]
     },
     "execution_count": 27,
     "metadata": {},
     "output_type": "execute_result"
    }
   ],
   "source": [
    "# The Ratio of Positive and Negative examples to the total.\n",
    "submissions['risk_flag'].value_counts(1)"
   ]
  },
  {
   "cell_type": "code",
   "execution_count": 28,
   "id": "fbba184b",
   "metadata": {
    "execution": {
     "iopub.execute_input": "2021-08-15T08:00:35.118422Z",
     "iopub.status.busy": "2021-08-15T08:00:35.117786Z",
     "iopub.status.idle": "2021-08-15T08:00:35.123639Z",
     "shell.execute_reply": "2021-08-15T08:00:35.124133Z",
     "shell.execute_reply.started": "2021-08-15T02:35:32.284889Z"
    },
    "papermill": {
     "duration": 0.082708,
     "end_time": "2021-08-15T08:00:35.124333",
     "exception": false,
     "start_time": "2021-08-15T08:00:35.041625",
     "status": "completed"
    },
    "tags": []
   },
   "outputs": [
    {
     "data": {
      "text/plain": [
       "(28000, 2)"
      ]
     },
     "execution_count": 28,
     "metadata": {},
     "output_type": "execute_result"
    }
   ],
   "source": [
    "submissions.shape"
   ]
  },
  {
   "cell_type": "markdown",
   "id": "8ff8251a",
   "metadata": {
    "papermill": {
     "duration": 0.071651,
     "end_time": "2021-08-15T08:00:35.267701",
     "exception": false,
     "start_time": "2021-08-15T08:00:35.196050",
     "status": "completed"
    },
    "tags": []
   },
   "source": [
    "**Submission File**"
   ]
  },
  {
   "cell_type": "code",
   "execution_count": 29,
   "id": "01f04459",
   "metadata": {
    "execution": {
     "iopub.execute_input": "2021-08-15T08:00:35.415243Z",
     "iopub.status.busy": "2021-08-15T08:00:35.414622Z",
     "iopub.status.idle": "2021-08-15T08:00:35.477817Z",
     "shell.execute_reply": "2021-08-15T08:00:35.477166Z",
     "shell.execute_reply.started": "2021-08-15T02:35:32.301131Z"
    },
    "papermill": {
     "duration": 0.13837,
     "end_time": "2021-08-15T08:00:35.478007",
     "exception": false,
     "start_time": "2021-08-15T08:00:35.339637",
     "status": "completed"
    },
    "tags": []
   },
   "outputs": [],
   "source": [
    "submissions.to_csv('submission.csv',index=False)"
   ]
  },
  {
   "cell_type": "markdown",
   "id": "0f03bdd1",
   "metadata": {
    "papermill": {
     "duration": 0.071422,
     "end_time": "2021-08-15T08:00:35.622111",
     "exception": false,
     "start_time": "2021-08-15T08:00:35.550689",
     "status": "completed"
    },
    "tags": []
   },
   "source": [
    "# Tweaking Threshold Val"
   ]
  },
  {
   "cell_type": "code",
   "execution_count": 30,
   "id": "c383128b",
   "metadata": {
    "execution": {
     "iopub.execute_input": "2021-08-15T08:00:35.770812Z",
     "iopub.status.busy": "2021-08-15T08:00:35.770204Z",
     "iopub.status.idle": "2021-08-15T08:00:35.773394Z",
     "shell.execute_reply": "2021-08-15T08:00:35.772842Z",
     "shell.execute_reply.started": "2021-08-15T02:35:32.316065Z"
    },
    "papermill": {
     "duration": 0.079491,
     "end_time": "2021-08-15T08:00:35.773532",
     "exception": false,
     "start_time": "2021-08-15T08:00:35.694041",
     "status": "completed"
    },
    "tags": []
   },
   "outputs": [],
   "source": [
    "thresh2=thresh-0.015"
   ]
  },
  {
   "cell_type": "code",
   "execution_count": 31,
   "id": "fe51fa02",
   "metadata": {
    "execution": {
     "iopub.execute_input": "2021-08-15T08:00:35.946749Z",
     "iopub.status.busy": "2021-08-15T08:00:35.928592Z",
     "iopub.status.idle": "2021-08-15T08:00:35.972637Z",
     "shell.execute_reply": "2021-08-15T08:00:35.971954Z",
     "shell.execute_reply.started": "2021-08-15T02:35:32.322434Z"
    },
    "papermill": {
     "duration": 0.125334,
     "end_time": "2021-08-15T08:00:35.972794",
     "exception": false,
     "start_time": "2021-08-15T08:00:35.847460",
     "status": "completed"
    },
    "tags": []
   },
   "outputs": [],
   "source": [
    "def get_bool(predictions_df,threshold):\n",
    "    '''get 1/0 based on thresholds'''\n",
    "    \n",
    "    df=predictions_df.copy(deep=True)\n",
    "    \n",
    "    df['risk_flag']=df['risk_flag'].apply(lambda x: int(x>=threshold))\n",
    "    \n",
    "    df=df[['id','risk_flag']]\n",
    "    \n",
    "    return df\n",
    "\n",
    "submissions=get_bool(predictions_df=preds,\n",
    "                     threshold=thresh2)"
   ]
  },
  {
   "cell_type": "code",
   "execution_count": 32,
   "id": "f58b657f",
   "metadata": {
    "execution": {
     "iopub.execute_input": "2021-08-15T08:00:36.125088Z",
     "iopub.status.busy": "2021-08-15T08:00:36.124433Z",
     "iopub.status.idle": "2021-08-15T08:00:36.500004Z",
     "shell.execute_reply": "2021-08-15T08:00:36.500577Z",
     "shell.execute_reply.started": "2021-08-15T02:35:32.339332Z"
    },
    "papermill": {
     "duration": 0.454229,
     "end_time": "2021-08-15T08:00:36.500780",
     "exception": false,
     "start_time": "2021-08-15T08:00:36.046551",
     "status": "completed"
    },
    "tags": []
   },
   "outputs": [
    {
     "data": {
      "text/plain": [
       "0.9569338074740362"
      ]
     },
     "execution_count": 32,
     "metadata": {},
     "output_type": "execute_result"
    }
   ],
   "source": [
    "\n",
    "tr=get_bool(predictions_df=train_preds,\n",
    "                     threshold=thresh2)\n",
    "\n",
    "auc(y,tr['risk_flag'])"
   ]
  },
  {
   "cell_type": "code",
   "execution_count": 33,
   "id": "9580bdf3",
   "metadata": {
    "execution": {
     "iopub.execute_input": "2021-08-15T08:00:36.652049Z",
     "iopub.status.busy": "2021-08-15T08:00:36.651335Z",
     "iopub.status.idle": "2021-08-15T08:00:36.659985Z",
     "shell.execute_reply": "2021-08-15T08:00:36.659403Z",
     "shell.execute_reply.started": "2021-08-15T02:35:32.360250Z"
    },
    "papermill": {
     "duration": 0.086253,
     "end_time": "2021-08-15T08:00:36.660154",
     "exception": false,
     "start_time": "2021-08-15T08:00:36.573901",
     "status": "completed"
    },
    "tags": []
   },
   "outputs": [
    {
     "data": {
      "text/plain": [
       "0    0.840821\n",
       "1    0.159179\n",
       "Name: risk_flag, dtype: float64"
      ]
     },
     "execution_count": 33,
     "metadata": {},
     "output_type": "execute_result"
    }
   ],
   "source": [
    "# The Ratio of Positive and Negative examples to the total.\n",
    "submissions['risk_flag'].value_counts(1)"
   ]
  },
  {
   "cell_type": "code",
   "execution_count": 34,
   "id": "f6afce37",
   "metadata": {
    "execution": {
     "iopub.execute_input": "2021-08-15T08:00:36.815247Z",
     "iopub.status.busy": "2021-08-15T08:00:36.814035Z",
     "iopub.status.idle": "2021-08-15T08:00:36.869301Z",
     "shell.execute_reply": "2021-08-15T08:00:36.868635Z",
     "shell.execute_reply.started": "2021-08-15T02:35:32.373599Z"
    },
    "papermill": {
     "duration": 0.135019,
     "end_time": "2021-08-15T08:00:36.869497",
     "exception": false,
     "start_time": "2021-08-15T08:00:36.734478",
     "status": "completed"
    },
    "tags": []
   },
   "outputs": [],
   "source": [
    "submissions.to_csv('submission1.csv',index=False)"
   ]
  },
  {
   "cell_type": "markdown",
   "id": "929fe238",
   "metadata": {
    "papermill": {
     "duration": 0.07475,
     "end_time": "2021-08-15T08:00:37.019436",
     "exception": false,
     "start_time": "2021-08-15T08:00:36.944686",
     "status": "completed"
    },
    "tags": []
   },
   "source": [
    "**3**"
   ]
  },
  {
   "cell_type": "code",
   "execution_count": 35,
   "id": "882f7dea",
   "metadata": {
    "execution": {
     "iopub.execute_input": "2021-08-15T08:00:37.172115Z",
     "iopub.status.busy": "2021-08-15T08:00:37.171150Z",
     "iopub.status.idle": "2021-08-15T08:00:37.174544Z",
     "shell.execute_reply": "2021-08-15T08:00:37.173984Z",
     "shell.execute_reply.started": "2021-08-15T02:35:32.392349Z"
    },
    "papermill": {
     "duration": 0.082124,
     "end_time": "2021-08-15T08:00:37.174684",
     "exception": false,
     "start_time": "2021-08-15T08:00:37.092560",
     "status": "completed"
    },
    "tags": []
   },
   "outputs": [],
   "source": [
    "thresh3=thresh-0.02"
   ]
  },
  {
   "cell_type": "code",
   "execution_count": 36,
   "id": "b6d437b2",
   "metadata": {
    "execution": {
     "iopub.execute_input": "2021-08-15T08:00:37.326660Z",
     "iopub.status.busy": "2021-08-15T08:00:37.325924Z",
     "iopub.status.idle": "2021-08-15T08:00:37.367950Z",
     "shell.execute_reply": "2021-08-15T08:00:37.367383Z",
     "shell.execute_reply.started": "2021-08-15T02:35:32.401812Z"
    },
    "papermill": {
     "duration": 0.120998,
     "end_time": "2021-08-15T08:00:37.368104",
     "exception": false,
     "start_time": "2021-08-15T08:00:37.247106",
     "status": "completed"
    },
    "tags": []
   },
   "outputs": [],
   "source": [
    "def get_bool(predictions_df,threshold):\n",
    "    '''get 1/0 based on thresholds'''\n",
    "    \n",
    "    df=predictions_df.copy(deep=True)\n",
    "    \n",
    "    df['risk_flag']=df['risk_flag'].apply(lambda x: int(x>=threshold))\n",
    "    \n",
    "    df=df[['id','risk_flag']]\n",
    "    \n",
    "    return df\n",
    "\n",
    "submissions=get_bool(predictions_df=preds,\n",
    "                     threshold=thresh3)"
   ]
  },
  {
   "cell_type": "code",
   "execution_count": 37,
   "id": "826b68ae",
   "metadata": {
    "execution": {
     "iopub.execute_input": "2021-08-15T08:00:37.519707Z",
     "iopub.status.busy": "2021-08-15T08:00:37.519008Z",
     "iopub.status.idle": "2021-08-15T08:00:37.892426Z",
     "shell.execute_reply": "2021-08-15T08:00:37.892926Z",
     "shell.execute_reply.started": "2021-08-15T02:35:32.417891Z"
    },
    "papermill": {
     "duration": 0.451126,
     "end_time": "2021-08-15T08:00:37.893111",
     "exception": false,
     "start_time": "2021-08-15T08:00:37.441985",
     "status": "completed"
    },
    "tags": []
   },
   "outputs": [
    {
     "data": {
      "text/plain": [
       "0.9569095096391589"
      ]
     },
     "execution_count": 37,
     "metadata": {},
     "output_type": "execute_result"
    }
   ],
   "source": [
    "tr=get_bool(predictions_df=train_preds,\n",
    "                     threshold=thresh3)\n",
    "\n",
    "auc(y,tr['risk_flag'])"
   ]
  },
  {
   "cell_type": "code",
   "execution_count": 38,
   "id": "bf7cf9cf",
   "metadata": {
    "execution": {
     "iopub.execute_input": "2021-08-15T08:00:38.049312Z",
     "iopub.status.busy": "2021-08-15T08:00:38.046205Z",
     "iopub.status.idle": "2021-08-15T08:00:38.052319Z",
     "shell.execute_reply": "2021-08-15T08:00:38.052835Z",
     "shell.execute_reply.started": "2021-08-15T02:35:32.437698Z"
    },
    "papermill": {
     "duration": 0.085805,
     "end_time": "2021-08-15T08:00:38.053019",
     "exception": false,
     "start_time": "2021-08-15T08:00:37.967214",
     "status": "completed"
    },
    "tags": []
   },
   "outputs": [
    {
     "data": {
      "text/plain": [
       "0    0.837929\n",
       "1    0.162071\n",
       "Name: risk_flag, dtype: float64"
      ]
     },
     "execution_count": 38,
     "metadata": {},
     "output_type": "execute_result"
    }
   ],
   "source": [
    "# The Ratio of Positive and Negative examples to the total.\n",
    "submissions['risk_flag'].value_counts(1)"
   ]
  },
  {
   "cell_type": "code",
   "execution_count": 39,
   "id": "12111f96",
   "metadata": {
    "execution": {
     "iopub.execute_input": "2021-08-15T08:00:38.207383Z",
     "iopub.status.busy": "2021-08-15T08:00:38.206646Z",
     "iopub.status.idle": "2021-08-15T08:00:38.263552Z",
     "shell.execute_reply": "2021-08-15T08:00:38.264041Z",
     "shell.execute_reply.started": "2021-08-15T02:35:32.452151Z"
    },
    "papermill": {
     "duration": 0.133426,
     "end_time": "2021-08-15T08:00:38.264228",
     "exception": false,
     "start_time": "2021-08-15T08:00:38.130802",
     "status": "completed"
    },
    "tags": []
   },
   "outputs": [],
   "source": [
    "submissions.to_csv('submission2.csv',index=False)"
   ]
  },
  {
   "cell_type": "markdown",
   "id": "1f68c92e",
   "metadata": {
    "papermill": {
     "duration": 0.072623,
     "end_time": "2021-08-15T08:00:38.409806",
     "exception": false,
     "start_time": "2021-08-15T08:00:38.337183",
     "status": "completed"
    },
    "tags": []
   },
   "source": [
    "**4**"
   ]
  },
  {
   "cell_type": "code",
   "execution_count": 40,
   "id": "45d0b3dc",
   "metadata": {
    "execution": {
     "iopub.execute_input": "2021-08-15T08:00:38.560005Z",
     "iopub.status.busy": "2021-08-15T08:00:38.559362Z",
     "iopub.status.idle": "2021-08-15T08:00:38.563663Z",
     "shell.execute_reply": "2021-08-15T08:00:38.563054Z",
     "shell.execute_reply.started": "2021-08-15T02:35:32.467727Z"
    },
    "papermill": {
     "duration": 0.080867,
     "end_time": "2021-08-15T08:00:38.563802",
     "exception": false,
     "start_time": "2021-08-15T08:00:38.482935",
     "status": "completed"
    },
    "tags": []
   },
   "outputs": [],
   "source": [
    "thresh4=thresh-0.03"
   ]
  },
  {
   "cell_type": "code",
   "execution_count": 41,
   "id": "7125de6d",
   "metadata": {
    "execution": {
     "iopub.execute_input": "2021-08-15T08:00:38.717664Z",
     "iopub.status.busy": "2021-08-15T08:00:38.716298Z",
     "iopub.status.idle": "2021-08-15T08:00:38.758170Z",
     "shell.execute_reply": "2021-08-15T08:00:38.757546Z",
     "shell.execute_reply.started": "2021-08-15T02:35:32.479239Z"
    },
    "papermill": {
     "duration": 0.121491,
     "end_time": "2021-08-15T08:00:38.758337",
     "exception": false,
     "start_time": "2021-08-15T08:00:38.636846",
     "status": "completed"
    },
    "tags": []
   },
   "outputs": [],
   "source": [
    "def get_bool(predictions_df,threshold):\n",
    "    '''get 1/0 based on thresholds'''\n",
    "    \n",
    "    df=predictions_df.copy(deep=True)\n",
    "    \n",
    "    df['risk_flag']=df['risk_flag'].apply(lambda x: int(x>=threshold))\n",
    "    \n",
    "    df=df[['id','risk_flag']]\n",
    "    \n",
    "    return df\n",
    "\n",
    "submissions=get_bool(predictions_df=preds,\n",
    "                     threshold=thresh4)"
   ]
  },
  {
   "cell_type": "code",
   "execution_count": 42,
   "id": "10313a2f",
   "metadata": {
    "execution": {
     "iopub.execute_input": "2021-08-15T08:00:38.935550Z",
     "iopub.status.busy": "2021-08-15T08:00:38.934836Z",
     "iopub.status.idle": "2021-08-15T08:00:39.316689Z",
     "shell.execute_reply": "2021-08-15T08:00:39.316139Z",
     "shell.execute_reply.started": "2021-08-15T02:35:32.494165Z"
    },
    "papermill": {
     "duration": 0.483664,
     "end_time": "2021-08-15T08:00:39.316857",
     "exception": false,
     "start_time": "2021-08-15T08:00:38.833193",
     "status": "completed"
    },
    "tags": []
   },
   "outputs": [
    {
     "data": {
      "text/plain": [
       "0.9567964814822171"
      ]
     },
     "execution_count": 42,
     "metadata": {},
     "output_type": "execute_result"
    }
   ],
   "source": [
    "tr=get_bool(predictions_df=train_preds,\n",
    "                     threshold=thresh4)\n",
    "\n",
    "auc(y,tr['risk_flag'])"
   ]
  },
  {
   "cell_type": "code",
   "execution_count": 43,
   "id": "39256647",
   "metadata": {
    "execution": {
     "iopub.execute_input": "2021-08-15T08:00:39.471751Z",
     "iopub.status.busy": "2021-08-15T08:00:39.468592Z",
     "iopub.status.idle": "2021-08-15T08:00:39.476855Z",
     "shell.execute_reply": "2021-08-15T08:00:39.476312Z",
     "shell.execute_reply.started": "2021-08-15T02:35:32.514366Z"
    },
    "papermill": {
     "duration": 0.086581,
     "end_time": "2021-08-15T08:00:39.477017",
     "exception": false,
     "start_time": "2021-08-15T08:00:39.390436",
     "status": "completed"
    },
    "tags": []
   },
   "outputs": [
    {
     "data": {
      "text/plain": [
       "0    0.833429\n",
       "1    0.166571\n",
       "Name: risk_flag, dtype: float64"
      ]
     },
     "execution_count": 43,
     "metadata": {},
     "output_type": "execute_result"
    }
   ],
   "source": [
    "# The Ratio of Positive and Negative examples to the total.\n",
    "submissions['risk_flag'].value_counts(1)"
   ]
  },
  {
   "cell_type": "code",
   "execution_count": 44,
   "id": "d6fcebdd",
   "metadata": {
    "execution": {
     "iopub.execute_input": "2021-08-15T08:00:39.863467Z",
     "iopub.status.busy": "2021-08-15T08:00:39.861882Z",
     "iopub.status.idle": "2021-08-15T08:00:39.916534Z",
     "shell.execute_reply": "2021-08-15T08:00:39.915945Z",
     "shell.execute_reply.started": "2021-08-15T02:35:32.525470Z"
    },
    "papermill": {
     "duration": 0.365721,
     "end_time": "2021-08-15T08:00:39.916679",
     "exception": false,
     "start_time": "2021-08-15T08:00:39.550958",
     "status": "completed"
    },
    "tags": []
   },
   "outputs": [],
   "source": [
    "submissions.to_csv('submission3.csv',index=False)"
   ]
  },
  {
   "cell_type": "markdown",
   "id": "c8b55f03",
   "metadata": {
    "papermill": {
     "duration": 0.075644,
     "end_time": "2021-08-15T08:00:40.066830",
     "exception": false,
     "start_time": "2021-08-15T08:00:39.991186",
     "status": "completed"
    },
    "tags": []
   },
   "source": [
    "**5**"
   ]
  },
  {
   "cell_type": "code",
   "execution_count": 45,
   "id": "5dedcfe3",
   "metadata": {
    "execution": {
     "iopub.execute_input": "2021-08-15T08:00:40.219033Z",
     "iopub.status.busy": "2021-08-15T08:00:40.218367Z",
     "iopub.status.idle": "2021-08-15T08:00:40.221998Z",
     "shell.execute_reply": "2021-08-15T08:00:40.221339Z",
     "shell.execute_reply.started": "2021-08-15T02:35:32.539218Z"
    },
    "papermill": {
     "duration": 0.081341,
     "end_time": "2021-08-15T08:00:40.222151",
     "exception": false,
     "start_time": "2021-08-15T08:00:40.140810",
     "status": "completed"
    },
    "tags": []
   },
   "outputs": [],
   "source": [
    "thresh5=thresh-0.036"
   ]
  },
  {
   "cell_type": "code",
   "execution_count": 46,
   "id": "6b32f2ab",
   "metadata": {
    "execution": {
     "iopub.execute_input": "2021-08-15T08:00:40.379073Z",
     "iopub.status.busy": "2021-08-15T08:00:40.378429Z",
     "iopub.status.idle": "2021-08-15T08:00:40.420125Z",
     "shell.execute_reply": "2021-08-15T08:00:40.419546Z",
     "shell.execute_reply.started": "2021-08-15T02:35:32.549146Z"
    },
    "papermill": {
     "duration": 0.122428,
     "end_time": "2021-08-15T08:00:40.420271",
     "exception": false,
     "start_time": "2021-08-15T08:00:40.297843",
     "status": "completed"
    },
    "tags": []
   },
   "outputs": [],
   "source": [
    "def get_bool(predictions_df,threshold):\n",
    "    '''get 1/0 based on thresholds'''\n",
    "    \n",
    "    df=predictions_df.copy(deep=True)\n",
    "    \n",
    "    df['risk_flag']=df['risk_flag'].apply(lambda x: int(x>=threshold))\n",
    "    \n",
    "    df=df[['id','risk_flag']]\n",
    "    \n",
    "    return df\n",
    "\n",
    "submissions=get_bool(predictions_df=preds,\n",
    "                     threshold=thresh5)"
   ]
  },
  {
   "cell_type": "code",
   "execution_count": 47,
   "id": "732b41f2",
   "metadata": {
    "execution": {
     "iopub.execute_input": "2021-08-15T08:00:40.574731Z",
     "iopub.status.busy": "2021-08-15T08:00:40.574107Z",
     "iopub.status.idle": "2021-08-15T08:00:40.949925Z",
     "shell.execute_reply": "2021-08-15T08:00:40.950420Z",
     "shell.execute_reply.started": "2021-08-15T02:35:32.566818Z"
    },
    "papermill": {
     "duration": 0.456626,
     "end_time": "2021-08-15T08:00:40.950606",
     "exception": false,
     "start_time": "2021-08-15T08:00:40.493980",
     "status": "completed"
    },
    "tags": []
   },
   "outputs": [
    {
     "data": {
      "text/plain": [
       "0.9567765061236431"
      ]
     },
     "execution_count": 47,
     "metadata": {},
     "output_type": "execute_result"
    }
   ],
   "source": [
    "tr=get_bool(predictions_df=train_preds,\n",
    "                     threshold=thresh5)\n",
    "\n",
    "auc(y,tr['risk_flag'])"
   ]
  },
  {
   "cell_type": "code",
   "execution_count": 48,
   "id": "c6f8d54d",
   "metadata": {
    "execution": {
     "iopub.execute_input": "2021-08-15T08:00:41.107953Z",
     "iopub.status.busy": "2021-08-15T08:00:41.104727Z",
     "iopub.status.idle": "2021-08-15T08:00:41.112786Z",
     "shell.execute_reply": "2021-08-15T08:00:41.112279Z",
     "shell.execute_reply.started": "2021-08-15T02:35:32.585948Z"
    },
    "papermill": {
     "duration": 0.087792,
     "end_time": "2021-08-15T08:00:41.112950",
     "exception": false,
     "start_time": "2021-08-15T08:00:41.025158",
     "status": "completed"
    },
    "tags": []
   },
   "outputs": [
    {
     "data": {
      "text/plain": [
       "0    0.830857\n",
       "1    0.169143\n",
       "Name: risk_flag, dtype: float64"
      ]
     },
     "execution_count": 48,
     "metadata": {},
     "output_type": "execute_result"
    }
   ],
   "source": [
    "# The Ratio of Positive and Negative examples to the total.\n",
    "submissions['risk_flag'].value_counts(1)"
   ]
  },
  {
   "cell_type": "code",
   "execution_count": 49,
   "id": "101b9005",
   "metadata": {
    "execution": {
     "iopub.execute_input": "2021-08-15T08:00:41.268389Z",
     "iopub.status.busy": "2021-08-15T08:00:41.267717Z",
     "iopub.status.idle": "2021-08-15T08:00:41.323473Z",
     "shell.execute_reply": "2021-08-15T08:00:41.322916Z",
     "shell.execute_reply.started": "2021-08-15T02:35:32.598405Z"
    },
    "papermill": {
     "duration": 0.136628,
     "end_time": "2021-08-15T08:00:41.323640",
     "exception": false,
     "start_time": "2021-08-15T08:00:41.187012",
     "status": "completed"
    },
    "tags": []
   },
   "outputs": [],
   "source": [
    "submissions.to_csv('submission4.csv',index=False)"
   ]
  },
  {
   "cell_type": "markdown",
   "id": "0e6c8519",
   "metadata": {
    "papermill": {
     "duration": 0.073926,
     "end_time": "2021-08-15T08:00:41.471988",
     "exception": false,
     "start_time": "2021-08-15T08:00:41.398062",
     "status": "completed"
    },
    "tags": []
   },
   "source": [
    "# Rough work"
   ]
  },
  {
   "cell_type": "code",
   "execution_count": 50,
   "id": "00529296",
   "metadata": {
    "execution": {
     "iopub.execute_input": "2021-08-15T08:00:41.628770Z",
     "iopub.status.busy": "2021-08-15T08:00:41.628112Z",
     "iopub.status.idle": "2021-08-15T08:00:41.631684Z",
     "shell.execute_reply": "2021-08-15T08:00:41.631078Z",
     "shell.execute_reply.started": "2021-08-15T02:35:32.609361Z"
    },
    "papermill": {
     "duration": 0.08442,
     "end_time": "2021-08-15T08:00:41.631829",
     "exception": false,
     "start_time": "2021-08-15T08:00:41.547409",
     "status": "completed"
    },
    "tags": []
   },
   "outputs": [],
   "source": [
    "#  Old params\n",
    "\n",
    "# 13/8/21 92.5 auc\n",
    "# best_params={\n",
    "#              'verbose'        : 0,\n",
    "#              'loss_function'  :'Logloss',\n",
    "#              'eval_metric': 'AUC',\n",
    "#              \"bootstrap_type\": 'MVS',           \n",
    "#              'depth': 9, \n",
    "#              'learning_rate': 0.07689113711214997, \n",
    "#              'l2_leaf_reg': 0.9296767227963647, \n",
    "#              'random_strength': 0.0991487399289666,\n",
    "#              'max_bin': 254, \n",
    "#              'iterations': 1727,\n",
    "#              'colsample_bylevel': 0.6456810156401686,\n",
    "#              'boosting_type': 'Plain'}\n",
    "\n",
    "\n",
    "# 12/8/21 :93 auc\n",
    "# best_params={\n",
    "#              'verbose'        : 0,\n",
    "#              'loss_function'  :'Logloss',\n",
    "#              'eval_metric': 'AUC',\n",
    "#              \"bootstrap_type\": 'MVS',           \n",
    "#              'depth': 10,\n",
    "#              'learning_rate': 0.048887169045477, \n",
    "#              'l2_leaf_reg': 9.637912687253579, \n",
    "#              'random_strength': 0.14125825814463858,\n",
    "#              'max_bin': 65, \n",
    "#              'iterations': 1987, \n",
    "#              'colsample_bylevel': 0.5998403438024634,\n",
    "#              'boosting_type': 'Plain'}\n",
    "\n",
    "\n",
    "# # 11/8/21:89auc\n",
    "# best_params={'verbose'        : 0,\n",
    "#              'loss_function'  :'Logloss',\n",
    "#              'eval_metric': 'AUC',\n",
    "#              'depth': 8,\n",
    "#              'learning_rate': 0.023218155139759035,\n",
    "#              'l2_leaf_reg': 0.014433979096775669,\n",
    "#              'random_strength': 0.09956727861050116,\n",
    "#              'max_bin': 177,\n",
    "#              'iterations': 1470,\n",
    "#              'colsample_bylevel': 0.6789825997216761,\n",
    "#              'boosting_type': 'Ordered',\n",
    "#              'bootstrap_type': 'MVS'}"
   ]
  }
 ],
 "metadata": {
  "kernelspec": {
   "display_name": "Python 3",
   "language": "python",
   "name": "python3"
  },
  "language_info": {
   "codemirror_mode": {
    "name": "ipython",
    "version": 3
   },
   "file_extension": ".py",
   "mimetype": "text/x-python",
   "name": "python",
   "nbconvert_exporter": "python",
   "pygments_lexer": "ipython3",
   "version": "3.7.10"
  },
  "papermill": {
   "default_parameters": {},
   "duration": 19054.1778,
   "end_time": "2021-08-15T08:00:43.574622",
   "environment_variables": {},
   "exception": null,
   "input_path": "__notebook__.ipynb",
   "output_path": "__notebook__.ipynb",
   "parameters": {},
   "start_time": "2021-08-15T02:43:09.396822",
   "version": "2.3.3"
  }
 },
 "nbformat": 4,
 "nbformat_minor": 5
}
